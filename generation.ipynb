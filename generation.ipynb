{
 "cells": [
  {
   "cell_type": "code",
   "execution_count": 346,
   "id": "5a79a908",
   "metadata": {},
   "outputs": [],
   "source": [
    "import numpy as np\n",
    "import matplotlib.pyplot as plt\n",
    "import pandas as pd\n",
    "from PIL import Image\n",
    "\n",
    "import torch\n",
    "import torch.nn as nn\n",
    "import torchvision\n",
    "from torchvision.models import vgg16, resnet34\n",
    "from torch.utils.data import Dataset, DataLoader\n",
    "from torch.optim import SGD, AdamW\n",
    "import torchvision.transforms as transforms\n",
    "from transformers import get_linear_schedule_with_warmup,  get_cosine_schedule_with_warmup\n",
    "from torch.nn import TransformerDecoderLayer, TransformerDecoder\n",
    "import torch.nn.functional as F\n",
    "\n",
    "import os\n",
    "from tqdm import tqdm\n",
    "import math"
   ]
  },
  {
   "cell_type": "code",
   "execution_count": 421,
   "id": "758d1227",
   "metadata": {},
   "outputs": [],
   "source": [
    "class Tokenizer():\n",
    "    \"\"\"\n",
    "    A simple tokenier for character-level tokenization of singular words of arbitrary length.\n",
    "    It maps each letter of the alphabet (lowercase and uppercase) to a unique integer ID.\n",
    "    Introduces three special tokens - <EOS>, <BOS>, and <PAD> for end of sequence, beginning of sequence, and padding respectively.\n",
    "    It is assumed that the labels (in this case, the captcha words) will be singular words without any spaces or numbers or any special characters.\n",
    "    \n",
    "    For now, the labels are assumed to be in lowercase letters only. But this will be changed to include uppercase letters as well.\n",
    "    \"\"\"\n",
    "    def __init__(self):\n",
    "        # define special tokens to indicate the beginning of a sequence, padding, and end of a sequence\n",
    "        self.bos_token = '<BOS>'\n",
    "        self.pad_token = '<PAD>'\n",
    "        self.eos_token = '<EOS>'\n",
    "        \n",
    "        self.bos_token_id = 0\n",
    "        self.pad_token_id = 1\n",
    "        self.eos_token_id = 2\n",
    "        \n",
    "        # define the token-id mapping\n",
    "        self.token_to_id = {chr(i): i - 97 + 3 for i in range(97, 123)} # for lowercase letters\n",
    "        self.token_to_id.update({chr(i): i - 65 + 29 for i in range(65, 91)}) # for uppercase letters\n",
    "        self.token_to_id[self.bos_token] = self.bos_token_id\n",
    "        self.token_to_id[self.pad_token] = self.pad_token_id\n",
    "        self.token_to_id[self.eos_token] = self.eos_token_id\n",
    "        \n",
    "        # define the id-token mapping\n",
    "        self.id_to_token = {v: k for k, v in self.token_to_id.items()}\n",
    "        \n",
    "        # size of vocabulary of the model\n",
    "        self.vocab_size = len(self.token_to_id)\n",
    "    \n",
    "    def tokenize(self, text):\n",
    "        # Add special tokens and split text into characters\n",
    "        tokens = [self.bos_token] + list(text) + [self.eos_token]\n",
    "        return tokens\n",
    "\n",
    "    def encode(self, text, padding=False, max_len=None):\n",
    "        # Validate input and convert to list format\n",
    "        if isinstance(text, str):\n",
    "            texts = [text]\n",
    "        elif isinstance(text, list):\n",
    "            texts = text\n",
    "        else:\n",
    "            raise ValueError(\"Input must be a string or a list of strings.\")\n",
    "        \n",
    "        \n",
    "\n",
    "        # Tokenize all texts (with BOS/EOS)\n",
    "        tokenized = [self.tokenize(t) for t in texts]\n",
    "        \n",
    "        # Convert to token IDs\n",
    "        token_ids = [ [self.token_to_id.get(token) for token in tokens] for tokens in tokenized]\n",
    "        \n",
    "        # Handle padding and truncation\n",
    "        if padding:\n",
    "            # Determine max sequence length\n",
    "            if max_len is None:\n",
    "                max_len = max(len(seq) for seq in token_ids)\n",
    "            else:\n",
    "                # Ensure we can fit at least BOS + EOS\n",
    "                max_len = max(max_len, 2)\n",
    "\n",
    "            # Process each sequence\n",
    "            processed = []\n",
    "            for seq in token_ids:\n",
    "                # Truncate first if needed\n",
    "                if len(seq) > max_len:\n",
    "                    # Preserve BOS and EOS while truncating\n",
    "                    bos, eos = seq[0], seq[-1]\n",
    "                    middle = seq[1:-1]\n",
    "                    truncated_middle = middle[:max_len-2]\n",
    "                    seq = [bos] + truncated_middle + [eos]\n",
    "                    \n",
    "                # Pad if needed\n",
    "                if len(seq) < max_len:\n",
    "                    pad_amount = max_len - len(seq)\n",
    "                    seq = seq + [self.pad_token_id] * pad_amount\n",
    "                    \n",
    "                processed.append(seq)\n",
    "            token_ids = processed\n",
    "\n",
    "        # Always return 2D tensor (batch_size, seq_len)\n",
    "        tensor = torch.tensor(token_ids, dtype=torch.long)\n",
    "        return tensor\n",
    "    \n",
    "    def decode(self, token_ids):\n",
    "        # convert ids to tokens\n",
    "        if len(token_ids.shape) != 2:\n",
    "            raise ValueError(\"Input must be a 2D tensor.\")\n",
    "        \n",
    "            return None\n",
    "        \n",
    "        tokens = [[self.id_to_token.get(t.item(), self.pad_token) for t in item] for item in token_ids]\n",
    "        # print(\"Tokens: \", tokens)\n",
    "        \n",
    "        # remove padding and special tokens\n",
    "        \n",
    "        tokens = [[t for t in items if t not in [self.pad_token, self.bos_token, self.eos_token]] for items in tokens]\n",
    "        strings = [''.join(t) for t in tokens]\n",
    "        \n",
    "        return strings\n",
    "    \n",
    "    def get_vocab_size(self):\n",
    "        return self.vocab_size    "
   ]
  },
  {
   "cell_type": "code",
   "execution_count": 382,
   "id": "f07a3946",
   "metadata": {},
   "outputs": [
    {
     "name": "stdout",
     "output_type": "stream",
     "text": [
      "tensor([[ 0,  3, 18, 18, 14,  7, 18, 11,  7,  2],\n",
      "        [ 0, 21, 25,  3, 18, 16,  3, 16, 11,  2]]) <class 'torch.Tensor'> torch.Size([2, 10])\n",
      "['applepie', 'swapnanilmukherjee']\n"
     ]
    }
   ],
   "source": [
    "text = ['Applepie', 'SwapnanilMukherjee']\n",
    "tokenizer = Tokenizer()\n",
    "# print(tokenizer.tokenize(text))\n",
    "print(tokenizer.encode(text, padding=True, max_len=10), type(tokenizer.encode(text, padding=True, max_len=10)), tokenizer.encode(text, padding=True, max_len=10).shape)\n",
    "print(tokenizer.decode(tokenizer.encode(text, padding=True, max_len=20)))"
   ]
  },
  {
   "cell_type": "code",
   "execution_count": 396,
   "id": "ba507b3e",
   "metadata": {},
   "outputs": [],
   "source": [
    "class VisionEncoderDecoder(nn.Module):\n",
    "    def __init__(self, encoder, decoder, tokenizer, max_seq_len=10):\n",
    "        super().__init__()\n",
    "        self.encoder = encoder\n",
    "        self.decoder = decoder\n",
    "        self.tokenizer = tokenizer\n",
    "        self.max_seq_len = max_seq_len\n",
    "        \n",
    "        # Embedding and output layers\n",
    "        self.d_model = self.decoder.layers[0].self_attn.embed_dim\n",
    "        self.embedding = nn.Embedding(tokenizer.vocab_size, self.d_model)\n",
    "        self.head = nn.Linear(self.d_model, tokenizer.vocab_size)\n",
    "        \n",
    "        # Positional encoding\n",
    "        self.pos_encoder = PositionalEncoding(self.d_model)\n",
    "        \n",
    "        # Register special tokens\n",
    "        self.register_buffer('bos_token', torch.tensor([tokenizer.bos_token_id], dtype=torch.long))\n",
    "        self.register_buffer('eos_token', torch.tensor([tokenizer.eos_token_id], dtype=torch.long))\n",
    "        self.register_buffer('pad_token', torch.tensor([tokenizer.pad_token_id], dtype=torch.long))\n",
    "        \n",
    "\n",
    "    def encode(self, images):\n",
    "        \"\"\"Extract image features with ConvNeXt encoder\"\"\"\n",
    "        features = self.encoder.stem(images)\n",
    "        for stage in self.encoder.stages:\n",
    "            features = stage(features)\n",
    "        return features  # (B, C, H, W)\n",
    "\n",
    "    def decode(self, features, tgt, tgt_mask=None):\n",
    "        \"\"\"Transformer decoder forward pass (batch-first)\"\"\"\n",
    "        B, C, H, W = features.shape\n",
    "        \n",
    "        # Prepare encoder memory (B, H*W, C)\n",
    "        memory = features.view(B, C, -1).permute(0, 2, 1)\n",
    "        \n",
    "        # Embed tokens and add positional encoding (B, S, E)\n",
    "        x = self.embedding(tgt) * math.sqrt(self.d_model)\n",
    "        x = self.pos_encoder(x)\n",
    "        \n",
    "        # Transformer decoder (batch-first)\n",
    "        output = self.decoder(\n",
    "            tgt=x,\n",
    "            memory=memory,\n",
    "            tgt_mask=tgt_mask,\n",
    "            memory_key_padding_mask=None\n",
    "        )\n",
    "        \n",
    "        return self.head(output)\n",
    "\n",
    "    def forward(self, images, tgt, tgt_mask=None):\n",
    "        features = self.encode(images)\n",
    "        shifted_tgt = self._shift_right(tgt)\n",
    "        \n",
    "        # Generate causal mask if not provided\n",
    "        if tgt_mask is None:\n",
    "            tgt_mask = self.generate_square_subsequent_mask(shifted_tgt.size(1))\n",
    "            \n",
    "        logits = self.decode(features, shifted_tgt, tgt_mask)\n",
    "        return logits\n",
    "\n",
    "    def _shift_right(self, input_ids):\n",
    "        shifted = input_ids.clone()\n",
    "        shifted[:, 1:] = input_ids[:, :-1]\n",
    "        shifted[:, 0] = self.bos_token\n",
    "        return shifted\n",
    "\n",
    "    def generate_square_subsequent_mask(self, sz):\n",
    "        \"\"\"Create causal mask for decoder predictions (batch-first)\"\"\"\n",
    "        return torch.triu(torch.full((sz, sz), float('-inf')), diagonal=1)\n",
    "\n",
    "    @torch.no_grad()\n",
    "    def generate(self, images, max_length=None):\n",
    "        max_length = max_length or self.max_seq_len\n",
    "        B = images.size(0)\n",
    "        device = images.device\n",
    "        \n",
    "        # Initialize with BOS tokens (B, 1)\n",
    "        outputs = torch.full((B, max_length), self.pad_token.item(), \n",
    "                        dtype=torch.long, device=device)\n",
    "        outputs[:, 0] = self.bos_token.item()\n",
    "        \n",
    "        # Track active sequences (haven't generated EOS yet)\n",
    "        active_mask = torch.ones(B, dtype=torch.bool, device=device)\n",
    "        \n",
    "        for step in range(1, max_length):\n",
    "            # Only continue for active sequences\n",
    "            if not active_mask.any():\n",
    "                break\n",
    "                \n",
    "            # Forward pass for active sequences only\n",
    "            current_input = outputs[active_mask, :step]\n",
    "            logits = self(images[active_mask], current_input)\n",
    "            \n",
    "            # Get next tokens (greedy)\n",
    "            next_tokens = logits[:, -1, :].argmax(-1)\n",
    "            \n",
    "            # Update outputs and mask\n",
    "            outputs[active_mask, step] = next_tokens\n",
    "            active_mask[active_mask.clone()] = (next_tokens != self.eos_token)\n",
    "            \n",
    "        # Replace EOS tokens with padding after their first occurrence\n",
    "        eos_positions = (outputs == self.eos_token).float().argmax(dim=1)\n",
    "        for i in range(B):\n",
    "            if eos_positions[i] > 0:  # Found EOS token\n",
    "                outputs[i, eos_positions[i]+1:] = self.pad_token.item()\n",
    "                \n",
    "        return outputs\n",
    "\n",
    "class PositionalEncoding(nn.Module):\n",
    "    def __init__(self, d_model, max_len=5000):\n",
    "        super().__init__()\n",
    "        self.d_model = d_model\n",
    "        \n",
    "        # Create positional encoding matrix\n",
    "        position = torch.arange(max_len).unsqueeze(1)  # (max_len, 1)\n",
    "        div_term = torch.exp(\n",
    "            torch.arange(0, d_model, 2).float() * \n",
    "            (-math.log(10000.0) / d_model)\n",
    "        )  # (d_model//2,)\n",
    "        \n",
    "        pe = torch.zeros(max_len, d_model)\n",
    "        pe[:, 0::2] = torch.sin(position * div_term)  # (max_len, d_model//2)\n",
    "        pe[:, 1::2] = torch.cos(position * div_term)  # (max_len, d_model//2)\n",
    "        \n",
    "        self.register_buffer('pe', pe.unsqueeze(0))  # (1, max_len, d_model)\n",
    "\n",
    "    def forward(self, x):\n",
    "        \"\"\"x: (B, S, E)\"\"\"\n",
    "        return x + self.pe[:, :x.size(1)]"
   ]
  },
  {
   "cell_type": "code",
   "execution_count": 397,
   "id": "758f699b",
   "metadata": {},
   "outputs": [
    {
     "name": "stdout",
     "output_type": "stream",
     "text": [
      "tensor([[0., -inf, -inf],\n",
      "        [0., 0., -inf],\n",
      "        [0., 0., 0.]])\n"
     ]
    }
   ],
   "source": [
    "# Test causal masking\n",
    "mask = model.generate_square_subsequent_mask(3)\n",
    "print(mask)\n",
    "# tensor([[0., -inf, -inf],\n",
    "#         [0., 0., -inf],\n",
    "#         [0., 0., 0.]])"
   ]
  },
  {
   "cell_type": "code",
   "execution_count": null,
   "id": "96dc13e9",
   "metadata": {},
   "outputs": [],
   "source": [
    "# Example usage:\n",
    "encoder = ConvNeXtCAPTCHA(num_classes=0)  # Remove classification head\n",
    "\n",
    "# Create decoder with batch_first=True\n",
    "decoder_layer = nn.TransformerDecoderLayer(\n",
    "    d_model=256,\n",
    "    nhead=8,\n",
    "    dim_feedforward=1024,\n",
    "    batch_first=True \n",
    ")\n",
    "decoder = nn.TransformerDecoder(decoder_layer, num_layers=6)\n",
    "tokenizer = Tokenizer()\n",
    "\n",
    "model = VisionEncoderDecoder(\n",
    "    encoder=encoder,\n",
    "    decoder=decoder,\n",
    "    tokenizer=tokenizer,\n",
    "    max_seq_len=15\n",
    ")"
   ]
  },
  {
   "cell_type": "code",
   "execution_count": 423,
   "id": "c2769a45",
   "metadata": {},
   "outputs": [
    {
     "name": "stdout",
     "output_type": "stream",
     "text": [
      "Loss: 4.3949\n",
      "['MUuuJJuJJuuJJu', 'UJuuJJuusuusks', 'MJJJuuUJJuuJJu']\n"
     ]
    }
   ],
   "source": [
    "# Forward pass\n",
    "images = torch.randn(3, 3, 300, 150)\n",
    "labels = tokenizer.encode([\"apple\", \"BANANA\", \"triage\"], padding=True, max_len=15)\n",
    "logits = model(images, labels[:, :-1])\n",
    "\n",
    "# Calculate loss\n",
    "loss = F.cross_entropy(\n",
    "    logits.reshape(-1, tokenizer.vocab_size),\n",
    "    labels[:, 1:].reshape(-1),\n",
    "    ignore_index=tokenizer.pad_token_id\n",
    ")\n",
    "\n",
    "print(f\"Loss: {loss.item():.4f}\")\n",
    "\n",
    "# Generate with beam width 5 and max length 15\n",
    "output = model.generate(images, max_length=15)\n",
    "decoded = tokenizer.decode(output)\n",
    "print(decoded)"
   ]
  },
  {
   "cell_type": "code",
   "execution_count": 435,
   "id": "a2571379",
   "metadata": {},
   "outputs": [],
   "source": [
    "class CAPTCHADataset(Dataset):\n",
    "    def __init__(self,  dir, label_file, label_map, transform=None, subset_qty=None):\n",
    "        super(CAPTCHADataset, self).__init__()\n",
    "        \n",
    "        self.dir = dir\n",
    "        self.label_file = pd.read_csv(os.path.join(os.path.curdir, label_file))\n",
    "        if subset_qty != None:\n",
    "            self.label_file = self.label_file.sample(subset_qty, axis=0).reset_index()\n",
    "        self.label_map = label_map\n",
    "        self.transform = transform\n",
    "\n",
    "    def __getitem__(self, index):\n",
    "        image_name = self.label_file['image'][index]\n",
    "        image = Image.open(os.path.join(os.getcwd(), self.dir, image_name))\n",
    "        \n",
    "        label = self.label_file['label'][index]\n",
    "        \n",
    "        if self.transform != None:\n",
    "            image = self.transform(image)\n",
    "        \n",
    "        return image, label\n",
    "    \n",
    "    def __len__(self):\n",
    "        return len(self.label_file)\n",
    "\n",
    "def collate_fn(batch):\n",
    "    images, labels = zip(*batch)\n",
    "    images = torch.stack(images, dim=0)\n",
    "    \n",
    "    try:\n",
    "        # Encode labels using tokenizer\n",
    "        labels = tokenizer.encode(list(labels), padding=True, max_len=15)\n",
    "    except Exception as e:\n",
    "        print(f\"Error encoding labels: {e}\")\n",
    "        print(\"Labels: \", labels)\n",
    "    \n",
    "    return images, labels"
   ]
  },
  {
   "cell_type": "code",
   "execution_count": 425,
   "id": "319c9aee",
   "metadata": {},
   "outputs": [
    {
     "name": "stdout",
     "output_type": "stream",
     "text": [
      "19161\n"
     ]
    }
   ],
   "source": [
    "labels = pd.read_csv('hard_set_labels.csv')['label'].unique().tolist()\n",
    "print(len(labels))\n",
    "\n",
    "numeric_labels = range(len(labels))\n",
    "\n",
    "label_map = dict(zip(labels, numeric_labels))"
   ]
  },
  {
   "cell_type": "code",
   "execution_count": null,
   "id": "c2117bcc",
   "metadata": {},
   "outputs": [],
   "source": [
    "train_transforms = transforms.Compose([\n",
    "\n",
    "                                        transforms.Resize((150, 300)),\n",
    "                                        transforms.RandomRotation(25),\n",
    "                                        transforms.ColorJitter(saturation=[5, 15], hue=[-0.2, 0.2]),\n",
    "                                        transforms.ToTensor(),\n",
    "                                        transforms.Normalize(mean=[1.848086931276295, 1.8482869967014623, 1.848101962198446],\n",
    "                                                             std = [0.319237245924657, 0.31864693591324456, 0.31901034284562513])\n",
    "                                            ])\n",
    "\n",
    "test_transforms = transforms.Compose([\n",
    "                                        transforms.Resize((150, 300)),\n",
    "                                        transforms.ToTensor(),\n",
    "                                        transforms.Normalize(mean=[1.848086931276295, 1.8482869967014623, 1.848101962198446],\n",
    "                                                             std = [0.319237245924657, 0.31864693591324456, 0.31901034284562513])\n",
    "                                            ])\n"
   ]
  },
  {
   "cell_type": "code",
   "execution_count": 478,
   "id": "b7c283c9",
   "metadata": {},
   "outputs": [
    {
     "name": "stdout",
     "output_type": "stream",
     "text": [
      "Number of training samples:  40000\n",
      "Number of testing samples:  10000\n",
      "Number of Easy train samples:  20000\n",
      "Number of Hard train samples:  20000\n",
      "Number of Easy test samples:  5000\n",
      "Number of Hard test samples:  5000\n",
      "Number of Classes:  19161\n"
     ]
    }
   ],
   "source": [
    "generator = torch.Generator().manual_seed(42)\n",
    "subset_size = 25000\n",
    "\n",
    "easy_set = CAPTCHADataset(dir='easy_set', label_file='easy_set_labels.csv', label_map=label_map, transform=train_transforms, subset_qty=subset_size)\n",
    "easy_set_train, easy_set_test = torch.utils.data.random_split(easy_set, lengths=[0.8, 0.2], generator=generator)\n",
    "\n",
    "hard_set = CAPTCHADataset(dir='hard_set', label_file='hard_set_labels.csv', label_map=label_map, transform=train_transforms, subset_qty=subset_size)\n",
    "hard_set_train, hard_set_test = torch.utils.data.random_split(hard_set, lengths=[0.8, 0.2], generator=generator)\n",
    "\n",
    "bonus_set = CAPTCHADataset(dir='bonus_set', label_file='bonus_set_labels.csv', label_map=label_map, transform=train_transforms, subset_qty=None)\n",
    "bonus_set_train, bonus_set_test = torch.utils.data.random_split(bonus_set, lengths=[0.8, 0.2], generator=generator)\n",
    "\n",
    "train_data = torch.utils.data.ConcatDataset([easy_set_train, hard_set_train])\n",
    "test_data = torch.utils.data.ConcatDataset([easy_set_test, hard_set_test])\n",
    "\n",
    "# train_data, test_data = bonus_set_train, bonus_set_test\n",
    "\n",
    "print(\"Number of training samples: \", len(train_data))\n",
    "print(\"Number of testing samples: \", len(test_data))\n",
    "print(\"Number of Easy train samples: \", len(easy_set_train)) \n",
    "print(\"Number of Hard train samples: \", len(hard_set_train))\n",
    "print(\"Number of Easy test samples: \", len(easy_set_test)) \n",
    "print(\"Number of Hard test samples: \", len(hard_set_test))\n",
    "print(\"Number of Classes: \", len(labels))\n",
    "\n",
    "trainloader = DataLoader(train_data, batch_size=64, collate_fn=collate_fn, shuffle=True, pin_memory=True, num_workers=8)\n",
    "testloader = DataLoader(test_data, batch_size=64, collate_fn=collate_fn, shuffle=True, pin_memory=True, num_workers=8)"
   ]
  },
  {
   "cell_type": "code",
   "execution_count": 479,
   "id": "f0ab57fb",
   "metadata": {},
   "outputs": [],
   "source": [
    "device = 'cuda'"
   ]
  },
  {
   "cell_type": "code",
   "execution_count": 480,
   "id": "dde72599",
   "metadata": {},
   "outputs": [],
   "source": [
    "def train(model, tokenizer, dataloader, optimizer, scheduler):\n",
    "    \n",
    "    running_loss = 0.0\n",
    "    nb_steps = 0\n",
    "    \n",
    "    for batch in tqdm(dataloader):\n",
    "        images, labels = batch\n",
    "        images = images.to(device, non_blocking=True)\n",
    "        labels = labels.to(device, non_blocking=True)\n",
    "        \n",
    "        logits = model(images, labels[:, :-1])\n",
    "        curr_loss = F.cross_entropy(\n",
    "                logits.reshape(-1, tokenizer.vocab_size),\n",
    "                labels[:, 1:].reshape(-1),\n",
    "                ignore_index=tokenizer.pad_token_id\n",
    "            )\n",
    "        \n",
    "        curr_loss.backward()\n",
    "        optimizer.step()\n",
    "        optimizer.zero_grad()\n",
    "        \n",
    "        if scheduler != None:\n",
    "            scheduler.step()\n",
    "        \n",
    "        running_loss += curr_loss\n",
    "        nb_steps += 1\n",
    "    \n",
    "    return running_loss / nb_steps"
   ]
  },
  {
   "cell_type": "code",
   "execution_count": 469,
   "id": "9a7998ad",
   "metadata": {},
   "outputs": [],
   "source": [
    "def exact_match_accuracy(tokenizer, generated_ids, true_texts, show_ouptuts=False):\n",
    "    # Decode generated IDs to text\n",
    "    generated_texts = tokenizer.decode(generated_ids)\n",
    "    decoded_labels = tokenizer.decode(true_texts)\n",
    "    \n",
    "    if show_ouptuts:\n",
    "        # show first five outputs of each batch\n",
    "        print(\"Generated texts: \", generated_texts[:5])\n",
    "        print(\"Decoded labels: \", decoded_labels[:5])\n",
    "        print(\"=========================================================\")\n",
    "    \n",
    "    # Compare each generated text with ground truth\n",
    "    correct = 0\n",
    "    for gen, true in zip(generated_texts, decoded_labels):\n",
    "        # Remove any accidental whitespace and normalize case if needed\n",
    "        gen_clean = gen.strip()  # Use lower() only if case-insensitive comparison \n",
    "        true_clean = true.strip()\n",
    "        \n",
    "        if gen_clean == true_clean:\n",
    "            correct += 1\n",
    "    \n",
    "    return correct / len(true_texts)\n",
    "\n",
    "def evaluate(model, tokenizer, dataloader, show_outputs=False):\n",
    "    running_loss, running_acc = 0.0, 0.0\n",
    "    nb_steps = 0\n",
    "    \n",
    "    for batch in dataloader:\n",
    "        images, labels = batch\n",
    "        images = images.to(device, non_blocking=True)\n",
    "        labels = labels.to(device, non_blocking=True)\n",
    "        \n",
    "        with torch.no_grad():\n",
    "            output_ids = model.generate(images, max_length=15)\n",
    "        \n",
    "        curr_acc = exact_match_accuracy(tokenizer, output_ids, labels, show_outputs) \n",
    "        \n",
    "        running_acc += curr_acc\n",
    "        \n",
    "        nb_steps += 1\n",
    "    \n",
    "    return running_acc/nb_steps\n"
   ]
  },
  {
   "cell_type": "code",
   "execution_count": 470,
   "id": "3e727055",
   "metadata": {},
   "outputs": [],
   "source": [
    "def run(epochs, model, tokenizer, optimizer, scheduler, trainloader, testloader, save_dir):\n",
    "    \n",
    "    best_ems = 0\n",
    "    \n",
    "    train_losses, val_ems = [], []\n",
    "    \n",
    "    print(\"Training started.\")\n",
    "    for epoch in range(epochs):\n",
    "        print(\"=======================================================\")\n",
    "        print(f\"Epoch {epoch}/{epochs}\")\n",
    "        \n",
    "        train_loss = train(model, tokenizer, trainloader, optimizer, scheduler)\n",
    "        print(f\"Train loss: {train_loss}\", end='\\t\\t')\n",
    "        \n",
    "        ems = evaluate(model, tokenizer, testloader)\n",
    "        # print(f\"Validation loss: {val_loss}\", end='\\t\\t')\n",
    "        print(f\"Validation accuracy: {ems}\")\n",
    "        \n",
    "        if ems > best_ems:\n",
    "            print(\"Better model state found. Saving ...\")\n",
    "            torch.save(model.state_dict(), os.path.join('/home/swapnanil_mukherjee/captcha/checkpoints/', save_dir, \"best_model.pth\"))\n",
    "            \n",
    "            best_ems = ems\n",
    "        \n",
    "        train_losses.append(train_loss.cpu().item())\n",
    "        # val_losses.append(val_loss.cpu().item())\n",
    "        val_ems.append(ems)\n",
    "        \n",
    "    # return train_losses, val_losses, val_acc\n",
    "    return train_losses, val_ems"
   ]
  },
  {
   "cell_type": "code",
   "execution_count": 481,
   "id": "db990d9b",
   "metadata": {},
   "outputs": [
    {
     "name": "stdout",
     "output_type": "stream",
     "text": [
      "Number of parameters, in million:  11.634263\n"
     ]
    },
    {
     "name": "stderr",
     "output_type": "stream",
     "text": [
      "/home/swapnanil_mukherjee/captcha/lib/python3.12/site-packages/torch/nn/init.py:511: UserWarning: Initializing zero-element tensors is a no-op\n",
      "  warnings.warn(\"Initializing zero-element tensors is a no-op\")\n"
     ]
    }
   ],
   "source": [
    "# Example usage:\n",
    "encoder = ConvNeXtCAPTCHA(num_classes=0)            # Remove classification head\n",
    "\n",
    "decoder_layer = nn.TransformerDecoderLayer(\n",
    "    d_model=256,\n",
    "    nhead=8,\n",
    "    dim_feedforward=1024,\n",
    "    batch_first=True \n",
    ")\n",
    "decoder = nn.TransformerDecoder(decoder_layer, num_layers=8)\n",
    "tokenizer = Tokenizer()\n",
    "model = VisionEncoderDecoder(\n",
    "    encoder=encoder,\n",
    "    decoder=decoder,\n",
    "    tokenizer=tokenizer,\n",
    "    max_seq_len=15\n",
    ").to(device)\n",
    "\n",
    "# model.load_state_dict(torch.load(os.path.join('/home/swapnanil_mukherjee/captcha/checkpoints/vgg/', 'best_model.pth')))\n",
    "\n",
    "print(\"Number of parameters, in million: \", sum(p.numel() for p in model.parameters())/1e6)"
   ]
  },
  {
   "cell_type": "code",
   "execution_count": 482,
   "id": "52e5edab",
   "metadata": {},
   "outputs": [
    {
     "name": "stdout",
     "output_type": "stream",
     "text": [
      "Training started.\n",
      "=======================================================\n",
      "Epoch 0/50\n"
     ]
    },
    {
     "name": "stderr",
     "output_type": "stream",
     "text": [
      "100%|██████████| 625/625 [00:56<00:00, 11.09it/s]"
     ]
    },
    {
     "name": "stdout",
     "output_type": "stream",
     "text": [
      "Train loss: 3.384094476699829\t\t"
     ]
    },
    {
     "name": "stderr",
     "output_type": "stream",
     "text": [
      "\n"
     ]
    },
    {
     "name": "stdout",
     "output_type": "stream",
     "text": [
      "Validation accuracy: 0.0\n",
      "=======================================================\n",
      "Epoch 1/50\n"
     ]
    },
    {
     "name": "stderr",
     "output_type": "stream",
     "text": [
      "100%|██████████| 625/625 [00:57<00:00, 10.92it/s]\n"
     ]
    },
    {
     "name": "stdout",
     "output_type": "stream",
     "text": [
      "Train loss: 2.654900312423706\t\tValidation accuracy: 9.952229299363058e-05\n",
      "Better model state found. Saving ...\n",
      "=======================================================\n",
      "Epoch 2/50\n"
     ]
    },
    {
     "name": "stderr",
     "output_type": "stream",
     "text": [
      "100%|██████████| 625/625 [00:57<00:00, 10.90it/s]\n"
     ]
    },
    {
     "name": "stdout",
     "output_type": "stream",
     "text": [
      "Train loss: 1.911712646484375\t\tValidation accuracy: 0.0\n",
      "=======================================================\n",
      "Epoch 3/50\n"
     ]
    },
    {
     "name": "stderr",
     "output_type": "stream",
     "text": [
      "100%|██████████| 625/625 [00:57<00:00, 10.91it/s]\n"
     ]
    },
    {
     "name": "stdout",
     "output_type": "stream",
     "text": [
      "Train loss: 1.571650505065918\t\tValidation accuracy: 9.952229299363058e-05\n",
      "=======================================================\n",
      "Epoch 4/50\n"
     ]
    },
    {
     "name": "stderr",
     "output_type": "stream",
     "text": [
      "100%|██████████| 625/625 [00:57<00:00, 10.94it/s]\n"
     ]
    },
    {
     "name": "stdout",
     "output_type": "stream",
     "text": [
      "Train loss: 1.3792215585708618\t\tValidation accuracy: 0.023387738853503183\n",
      "Better model state found. Saving ...\n",
      "=======================================================\n",
      "Epoch 5/50\n"
     ]
    },
    {
     "name": "stderr",
     "output_type": "stream",
     "text": [
      "100%|██████████| 625/625 [00:57<00:00, 10.92it/s]\n"
     ]
    },
    {
     "name": "stdout",
     "output_type": "stream",
     "text": [
      "Train loss: 1.122604250907898\t\tValidation accuracy: 0.07523885350318471\n",
      "Better model state found. Saving ...\n",
      "=======================================================\n",
      "Epoch 6/50\n"
     ]
    },
    {
     "name": "stderr",
     "output_type": "stream",
     "text": [
      "100%|██████████| 625/625 [00:57<00:00, 10.85it/s]\n"
     ]
    },
    {
     "name": "stdout",
     "output_type": "stream",
     "text": [
      "Train loss: 1.0200471878051758\t\tValidation accuracy: 0.08499203821656051\n",
      "Better model state found. Saving ...\n",
      "=======================================================\n",
      "Epoch 7/50\n"
     ]
    },
    {
     "name": "stderr",
     "output_type": "stream",
     "text": [
      "100%|██████████| 625/625 [00:57<00:00, 10.86it/s]\n"
     ]
    },
    {
     "name": "stdout",
     "output_type": "stream",
     "text": [
      "Train loss: 0.9651203155517578\t\tValidation accuracy: 0.09036624203821655\n",
      "Better model state found. Saving ...\n",
      "=======================================================\n",
      "Epoch 8/50\n"
     ]
    },
    {
     "name": "stderr",
     "output_type": "stream",
     "text": [
      "100%|██████████| 625/625 [00:57<00:00, 10.94it/s]\n"
     ]
    },
    {
     "name": "stdout",
     "output_type": "stream",
     "text": [
      "Train loss: 0.9109057188034058\t\tValidation accuracy: 0.09046576433121019\n",
      "Better model state found. Saving ...\n",
      "=======================================================\n",
      "Epoch 9/50\n"
     ]
    },
    {
     "name": "stderr",
     "output_type": "stream",
     "text": [
      "100%|██████████| 625/625 [00:57<00:00, 10.94it/s]\n"
     ]
    },
    {
     "name": "stdout",
     "output_type": "stream",
     "text": [
      "Train loss: 0.8578007817268372\t\tValidation accuracy: 0.09006767515923567\n",
      "=======================================================\n",
      "Epoch 10/50\n"
     ]
    },
    {
     "name": "stderr",
     "output_type": "stream",
     "text": [
      "100%|██████████| 625/625 [00:57<00:00, 10.91it/s]\n"
     ]
    },
    {
     "name": "stdout",
     "output_type": "stream",
     "text": [
      "Train loss: 0.8073672652244568\t\tValidation accuracy: 0.09554140127388536\n",
      "Better model state found. Saving ...\n",
      "=======================================================\n",
      "Epoch 11/50\n"
     ]
    },
    {
     "name": "stderr",
     "output_type": "stream",
     "text": [
      "100%|██████████| 625/625 [00:57<00:00, 10.86it/s]\n"
     ]
    },
    {
     "name": "stdout",
     "output_type": "stream",
     "text": [
      "Train loss: 0.7589545249938965\t\tValidation accuracy: 0.09424761146496816\n",
      "=======================================================\n",
      "Epoch 12/50\n"
     ]
    },
    {
     "name": "stderr",
     "output_type": "stream",
     "text": [
      "100%|██████████| 625/625 [00:57<00:00, 10.93it/s]\n"
     ]
    },
    {
     "name": "stdout",
     "output_type": "stream",
     "text": [
      "Train loss: 0.7138652205467224\t\tValidation accuracy: 0.1035031847133758\n",
      "Better model state found. Saving ...\n",
      "=======================================================\n",
      "Epoch 13/50\n"
     ]
    },
    {
     "name": "stderr",
     "output_type": "stream",
     "text": [
      "100%|██████████| 625/625 [00:52<00:00, 11.84it/s]\n"
     ]
    },
    {
     "name": "stdout",
     "output_type": "stream",
     "text": [
      "Train loss: 0.6660852432250977\t\tValidation accuracy: 0.10698646496815287\n",
      "Better model state found. Saving ...\n",
      "=======================================================\n",
      "Epoch 14/50\n"
     ]
    },
    {
     "name": "stderr",
     "output_type": "stream",
     "text": [
      "100%|██████████| 625/625 [00:52<00:00, 11.80it/s]\n"
     ]
    },
    {
     "name": "stdout",
     "output_type": "stream",
     "text": [
      "Train loss: 0.6203513145446777\t\tValidation accuracy: 0.11843152866242038\n",
      "Better model state found. Saving ...\n",
      "=======================================================\n",
      "Epoch 15/50\n"
     ]
    },
    {
     "name": "stderr",
     "output_type": "stream",
     "text": [
      "100%|██████████| 625/625 [00:52<00:00, 11.81it/s]\n"
     ]
    },
    {
     "name": "stdout",
     "output_type": "stream",
     "text": [
      "Train loss: 0.573005199432373\t\tValidation accuracy: 0.16152468152866242\n",
      "Better model state found. Saving ...\n",
      "=======================================================\n",
      "Epoch 16/50\n"
     ]
    },
    {
     "name": "stderr",
     "output_type": "stream",
     "text": [
      "100%|██████████| 625/625 [00:52<00:00, 11.85it/s]\n"
     ]
    },
    {
     "name": "stdout",
     "output_type": "stream",
     "text": [
      "Train loss: 0.5157063603401184\t\tValidation accuracy: 0.37649283439490444\n",
      "Better model state found. Saving ...\n",
      "=======================================================\n",
      "Epoch 17/50\n"
     ]
    },
    {
     "name": "stderr",
     "output_type": "stream",
     "text": [
      "100%|██████████| 625/625 [00:53<00:00, 11.62it/s]\n"
     ]
    },
    {
     "name": "stdout",
     "output_type": "stream",
     "text": [
      "Train loss: 0.39319923520088196\t\tValidation accuracy: 0.5577229299363057\n",
      "Better model state found. Saving ...\n",
      "=======================================================\n",
      "Epoch 18/50\n"
     ]
    },
    {
     "name": "stderr",
     "output_type": "stream",
     "text": [
      "100%|██████████| 625/625 [00:52<00:00, 11.87it/s]\n"
     ]
    },
    {
     "name": "stdout",
     "output_type": "stream",
     "text": [
      "Train loss: 0.31123092770576477\t\tValidation accuracy: 0.5901671974522293\n",
      "Better model state found. Saving ...\n",
      "=======================================================\n",
      "Epoch 19/50\n"
     ]
    },
    {
     "name": "stderr",
     "output_type": "stream",
     "text": [
      "100%|██████████| 625/625 [00:52<00:00, 11.83it/s]\n"
     ]
    },
    {
     "name": "stdout",
     "output_type": "stream",
     "text": [
      "Train loss: 0.26145699620246887\t\tValidation accuracy: 0.6224124203821656\n",
      "Better model state found. Saving ...\n",
      "=======================================================\n",
      "Epoch 20/50\n"
     ]
    },
    {
     "name": "stderr",
     "output_type": "stream",
     "text": [
      "100%|██████████| 625/625 [00:52<00:00, 11.87it/s]\n"
     ]
    },
    {
     "name": "stdout",
     "output_type": "stream",
     "text": [
      "Train loss: 0.22645768523216248\t\tValidation accuracy: 0.6480891719745223\n",
      "Better model state found. Saving ...\n",
      "=======================================================\n",
      "Epoch 21/50\n"
     ]
    },
    {
     "name": "stderr",
     "output_type": "stream",
     "text": [
      "100%|██████████| 625/625 [00:52<00:00, 11.82it/s]\n"
     ]
    },
    {
     "name": "stdout",
     "output_type": "stream",
     "text": [
      "Train loss: 0.19605135917663574\t\tValidation accuracy: 0.6744625796178344\n",
      "Better model state found. Saving ...\n",
      "=======================================================\n",
      "Epoch 22/50\n"
     ]
    },
    {
     "name": "stderr",
     "output_type": "stream",
     "text": [
      "100%|██████████| 625/625 [00:52<00:00, 11.81it/s]\n"
     ]
    },
    {
     "name": "stdout",
     "output_type": "stream",
     "text": [
      "Train loss: 0.17170026898384094\t\tValidation accuracy: 0.6979498407643312\n",
      "Better model state found. Saving ...\n",
      "=======================================================\n",
      "Epoch 23/50\n"
     ]
    },
    {
     "name": "stderr",
     "output_type": "stream",
     "text": [
      "100%|██████████| 625/625 [00:57<00:00, 10.90it/s]\n"
     ]
    },
    {
     "name": "stdout",
     "output_type": "stream",
     "text": [
      "Train loss: 0.15379150211811066\t\tValidation accuracy: 0.7131767515923567\n",
      "Better model state found. Saving ...\n",
      "=======================================================\n",
      "Epoch 24/50\n"
     ]
    },
    {
     "name": "stderr",
     "output_type": "stream",
     "text": [
      "100%|██████████| 625/625 [00:52<00:00, 11.87it/s]\n"
     ]
    },
    {
     "name": "stdout",
     "output_type": "stream",
     "text": [
      "Train loss: 0.1376924216747284\t\tValidation accuracy: 0.7302945859872612\n",
      "Better model state found. Saving ...\n",
      "=======================================================\n",
      "Epoch 25/50\n"
     ]
    },
    {
     "name": "stderr",
     "output_type": "stream",
     "text": [
      "100%|██████████| 625/625 [00:53<00:00, 11.79it/s]\n"
     ]
    },
    {
     "name": "stdout",
     "output_type": "stream",
     "text": [
      "Train loss: 0.12221433967351913\t\tValidation accuracy: 0.7468152866242038\n",
      "Better model state found. Saving ...\n",
      "=======================================================\n",
      "Epoch 26/50\n"
     ]
    },
    {
     "name": "stderr",
     "output_type": "stream",
     "text": [
      "100%|██████████| 625/625 [00:53<00:00, 11.79it/s]\n"
     ]
    },
    {
     "name": "stdout",
     "output_type": "stream",
     "text": [
      "Train loss: 0.10932277888059616\t\tValidation accuracy: 0.7604498407643312\n",
      "Better model state found. Saving ...\n",
      "=======================================================\n",
      "Epoch 27/50\n"
     ]
    },
    {
     "name": "stderr",
     "output_type": "stream",
     "text": [
      "100%|██████████| 625/625 [00:53<00:00, 11.75it/s]\n"
     ]
    },
    {
     "name": "stdout",
     "output_type": "stream",
     "text": [
      "Train loss: 0.10056126117706299\t\tValidation accuracy: 0.7653264331210191\n",
      "Better model state found. Saving ...\n",
      "=======================================================\n",
      "Epoch 28/50\n"
     ]
    },
    {
     "name": "stderr",
     "output_type": "stream",
     "text": [
      "100%|██████████| 625/625 [00:52<00:00, 11.80it/s]\n"
     ]
    },
    {
     "name": "stdout",
     "output_type": "stream",
     "text": [
      "Train loss: 0.09075511246919632\t\tValidation accuracy: 0.7827428343949044\n",
      "Better model state found. Saving ...\n",
      "=======================================================\n",
      "Epoch 29/50\n"
     ]
    },
    {
     "name": "stderr",
     "output_type": "stream",
     "text": [
      "100%|██████████| 625/625 [00:52<00:00, 11.81it/s]\n"
     ]
    },
    {
     "name": "stdout",
     "output_type": "stream",
     "text": [
      "Train loss: 0.0837593823671341\t\tValidation accuracy: 0.7918988853503185\n",
      "Better model state found. Saving ...\n",
      "=======================================================\n",
      "Epoch 30/50\n"
     ]
    },
    {
     "name": "stderr",
     "output_type": "stream",
     "text": [
      "100%|██████████| 625/625 [00:52<00:00, 11.81it/s]\n"
     ]
    },
    {
     "name": "stdout",
     "output_type": "stream",
     "text": [
      "Train loss: 0.07485874742269516\t\tValidation accuracy: 0.8023487261146497\n",
      "Better model state found. Saving ...\n",
      "=======================================================\n",
      "Epoch 31/50\n"
     ]
    },
    {
     "name": "stderr",
     "output_type": "stream",
     "text": [
      "100%|██████████| 625/625 [00:52<00:00, 11.83it/s]\n"
     ]
    },
    {
     "name": "stdout",
     "output_type": "stream",
     "text": [
      "Train loss: 0.06901305913925171\t\tValidation accuracy: 0.8171775477707006\n",
      "Better model state found. Saving ...\n",
      "=======================================================\n",
      "Epoch 32/50\n"
     ]
    },
    {
     "name": "stderr",
     "output_type": "stream",
     "text": [
      "100%|██████████| 625/625 [00:52<00:00, 11.84it/s]\n"
     ]
    },
    {
     "name": "stdout",
     "output_type": "stream",
     "text": [
      "Train loss: 0.06419527530670166\t\tValidation accuracy: 0.8171775477707006\n",
      "=======================================================\n",
      "Epoch 33/50\n"
     ]
    },
    {
     "name": "stderr",
     "output_type": "stream",
     "text": [
      "100%|██████████| 625/625 [00:52<00:00, 11.80it/s]\n"
     ]
    },
    {
     "name": "stdout",
     "output_type": "stream",
     "text": [
      "Train loss: 0.0594935417175293\t\tValidation accuracy: 0.8237460191082803\n",
      "Better model state found. Saving ...\n",
      "=======================================================\n",
      "Epoch 34/50\n"
     ]
    },
    {
     "name": "stderr",
     "output_type": "stream",
     "text": [
      "100%|██████████| 625/625 [00:52<00:00, 11.82it/s]\n"
     ]
    },
    {
     "name": "stdout",
     "output_type": "stream",
     "text": [
      "Train loss: 0.05533077195286751\t\tValidation accuracy: 0.8342953821656051\n",
      "Better model state found. Saving ...\n",
      "=======================================================\n",
      "Epoch 35/50\n"
     ]
    },
    {
     "name": "stderr",
     "output_type": "stream",
     "text": [
      "100%|██████████| 625/625 [00:52<00:00, 11.81it/s]\n"
     ]
    },
    {
     "name": "stdout",
     "output_type": "stream",
     "text": [
      "Train loss: 0.05054885149002075\t\tValidation accuracy: 0.8463375796178344\n",
      "Better model state found. Saving ...\n",
      "=======================================================\n",
      "Epoch 36/50\n"
     ]
    },
    {
     "name": "stderr",
     "output_type": "stream",
     "text": [
      "100%|██████████| 625/625 [00:53<00:00, 11.79it/s]\n"
     ]
    },
    {
     "name": "stdout",
     "output_type": "stream",
     "text": [
      "Train loss: 0.047772977501153946\t\tValidation accuracy: 0.8455414012738853\n",
      "=======================================================\n",
      "Epoch 37/50\n"
     ]
    },
    {
     "name": "stderr",
     "output_type": "stream",
     "text": [
      "100%|██████████| 625/625 [00:52<00:00, 11.83it/s]\n"
     ]
    },
    {
     "name": "stdout",
     "output_type": "stream",
     "text": [
      "Train loss: 0.044970571994781494\t\tValidation accuracy: 0.8492237261146497\n",
      "Better model state found. Saving ...\n",
      "=======================================================\n",
      "Epoch 38/50\n"
     ]
    },
    {
     "name": "stderr",
     "output_type": "stream",
     "text": [
      "100%|██████████| 625/625 [00:52<00:00, 11.85it/s]\n"
     ]
    },
    {
     "name": "stdout",
     "output_type": "stream",
     "text": [
      "Train loss: 0.04290131852030754\t\tValidation accuracy: 0.8558917197452229\n",
      "Better model state found. Saving ...\n",
      "=======================================================\n",
      "Epoch 39/50\n"
     ]
    },
    {
     "name": "stderr",
     "output_type": "stream",
     "text": [
      "100%|██████████| 625/625 [00:52<00:00, 11.83it/s]\n"
     ]
    },
    {
     "name": "stdout",
     "output_type": "stream",
     "text": [
      "Train loss: 0.040083590894937515\t\tValidation accuracy: 0.8589769108280255\n",
      "Better model state found. Saving ...\n",
      "=======================================================\n",
      "Epoch 40/50\n"
     ]
    },
    {
     "name": "stderr",
     "output_type": "stream",
     "text": [
      "100%|██████████| 625/625 [00:52<00:00, 11.80it/s]\n"
     ]
    },
    {
     "name": "stdout",
     "output_type": "stream",
     "text": [
      "Train loss: 0.03814873844385147\t\tValidation accuracy: 0.8596735668789809\n",
      "Better model state found. Saving ...\n",
      "=======================================================\n",
      "Epoch 41/50\n"
     ]
    },
    {
     "name": "stderr",
     "output_type": "stream",
     "text": [
      "100%|██████████| 625/625 [00:53<00:00, 11.78it/s]\n"
     ]
    },
    {
     "name": "stdout",
     "output_type": "stream",
     "text": [
      "Train loss: 0.036769066005945206\t\tValidation accuracy: 0.8672372611464968\n",
      "Better model state found. Saving ...\n",
      "=======================================================\n",
      "Epoch 42/50\n"
     ]
    },
    {
     "name": "stderr",
     "output_type": "stream",
     "text": [
      "100%|██████████| 625/625 [00:52<00:00, 11.83it/s]\n"
     ]
    },
    {
     "name": "stdout",
     "output_type": "stream",
     "text": [
      "Train loss: 0.035886041820049286\t\tValidation accuracy: 0.86046974522293\n",
      "=======================================================\n",
      "Epoch 43/50\n"
     ]
    },
    {
     "name": "stderr",
     "output_type": "stream",
     "text": [
      "100%|██████████| 625/625 [00:52<00:00, 11.84it/s]\n"
     ]
    },
    {
     "name": "stdout",
     "output_type": "stream",
     "text": [
      "Train loss: 0.0338088721036911\t\tValidation accuracy: 0.8652468152866242\n",
      "=======================================================\n",
      "Epoch 44/50\n"
     ]
    },
    {
     "name": "stderr",
     "output_type": "stream",
     "text": [
      "100%|██████████| 625/625 [00:52<00:00, 11.80it/s]\n"
     ]
    },
    {
     "name": "stdout",
     "output_type": "stream",
     "text": [
      "Train loss: 0.03337567299604416\t\tValidation accuracy: 0.8657444267515924\n",
      "=======================================================\n",
      "Epoch 45/50\n"
     ]
    },
    {
     "name": "stderr",
     "output_type": "stream",
     "text": [
      "100%|██████████| 625/625 [00:53<00:00, 11.77it/s]\n"
     ]
    },
    {
     "name": "stdout",
     "output_type": "stream",
     "text": [
      "Train loss: 0.03232404589653015\t\tValidation accuracy: 0.8664410828025477\n",
      "=======================================================\n",
      "Epoch 46/50\n"
     ]
    },
    {
     "name": "stderr",
     "output_type": "stream",
     "text": [
      "100%|██████████| 625/625 [00:52<00:00, 11.81it/s]\n"
     ]
    },
    {
     "name": "stdout",
     "output_type": "stream",
     "text": [
      "Train loss: 0.03177764266729355\t\tValidation accuracy: 0.8689291401273885\n",
      "Better model state found. Saving ...\n",
      "=======================================================\n",
      "Epoch 47/50\n"
     ]
    },
    {
     "name": "stderr",
     "output_type": "stream",
     "text": [
      "100%|██████████| 625/625 [00:52<00:00, 11.86it/s]\n"
     ]
    },
    {
     "name": "stdout",
     "output_type": "stream",
     "text": [
      "Train loss: 0.03152833506464958\t\tValidation accuracy: 0.8695262738853503\n",
      "Better model state found. Saving ...\n",
      "=======================================================\n",
      "Epoch 48/50\n"
     ]
    },
    {
     "name": "stderr",
     "output_type": "stream",
     "text": [
      "100%|██████████| 625/625 [00:52<00:00, 11.81it/s]\n"
     ]
    },
    {
     "name": "stdout",
     "output_type": "stream",
     "text": [
      "Train loss: 0.03164296969771385\t\tValidation accuracy: 0.8690286624203821\n",
      "=======================================================\n",
      "Epoch 49/50\n"
     ]
    },
    {
     "name": "stderr",
     "output_type": "stream",
     "text": [
      "100%|██████████| 625/625 [00:52<00:00, 11.83it/s]\n"
     ]
    },
    {
     "name": "stdout",
     "output_type": "stream",
     "text": [
      "Train loss: 0.030839143320918083\t\tValidation accuracy: 0.8707205414012739\n",
      "Better model state found. Saving ...\n"
     ]
    }
   ],
   "source": [
    "epochs = 50\n",
    "\n",
    "optimizer = AdamW(model.parameters(), lr=0.0001, weight_decay=0.001)\n",
    "scheduler = get_cosine_schedule_with_warmup(optimizer, \n",
    "                                            num_training_steps=len(trainloader)*epochs, \n",
    "                                            num_warmup_steps=len(trainloader)*epochs*0.1)\n",
    "\n",
    "# train_losses, val_losses, val_acc = run(epochs, model, tokenizer, optimizer, scheduler, trainloader, testloader, save_dir=\"vgg\")\n",
    "train_losses, val_ems = run(epochs, model, tokenizer, optimizer, scheduler, trainloader, testloader, save_dir=\"vgg\")"
   ]
  },
  {
   "cell_type": "code",
   "execution_count": null,
   "id": "d35cadeb",
   "metadata": {},
   "outputs": [],
   "source": [
    "evaluate(model, tokenizer, testloader, show_outputs=True)"
   ]
  },
  {
   "cell_type": "code",
   "execution_count": 452,
   "id": "6ce35d6b",
   "metadata": {},
   "outputs": [
    {
     "data": {
      "image/png": "[encoded data removed]",
      "text/plain": [
       "<Figure size 640x480 with 1 Axes>"
      ]
     },
     "metadata": {},
     "output_type": "display_data"
    }
   ],
   "source": [
    "plt.plot(range(epochs), train_losses, label='Train Loss')\n",
    "# plt.plot(range(epochs), val_losses, label= 'Val loss')\n",
    "plt.xlabel(\"Epochs\")\n",
    "plt.ylabel(\"Loss\")\n",
    "plt.title(\"Loss vs Epochs\")\n",
    "plt.legend()\n",
    "plt.show()"
   ]
  },
  {
   "cell_type": "code",
   "execution_count": 453,
   "id": "68c5bd12",
   "metadata": {},
   "outputs": [
    {
     "data": {
      "image/png": "[encoded data removed]",
      "text/plain": [
       "<Figure size 640x480 with 1 Axes>"
      ]
     },
     "metadata": {},
     "output_type": "display_data"
    }
   ],
   "source": [
    "plt.plot(range(epochs), val_ems, label= 'Val Accuracy')\n",
    "plt.xlabel(\"Epochs\")\n",
    "plt.ylabel(\"Accuracy\")\n",
    "plt.title(\"Accuracy vs Epochs\")\n",
    "plt.ylim(0, 1)\n",
    "plt.legend()\n",
    "plt.show()"
   ]
  },
  {
   "cell_type": "code",
   "execution_count": null,
   "id": "401d3dc3",
   "metadata": {},
   "outputs": [],
   "source": []
  }
 ],
 "metadata": {
  "kernelspec": {
   "display_name": "captcha",
   "language": "python",
   "name": "python3"
  },
  "language_info": {
   "codemirror_mode": {
    "name": "ipython",
    "version": 3
   },
   "file_extension": ".py",
   "mimetype": "text/x-python",
   "name": "python",
   "nbconvert_exporter": "python",
   "pygments_lexer": "ipython3",
   "version": "3.12.9"
  }
 },
 "nbformat": 4,
 "nbformat_minor": 5
}
