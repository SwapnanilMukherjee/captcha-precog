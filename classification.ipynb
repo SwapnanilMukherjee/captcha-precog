{
 "cells": [
  {
   "cell_type": "code",
   "execution_count": 13,
   "id": "43dcbeb6",
   "metadata": {},
   "outputs": [],
   "source": [
    "import numpy as np\n",
    "import matplotlib.pyplot as plt\n",
    "import pandas as pd\n",
    "from PIL import Image\n",
    "\n",
    "import torch\n",
    "import torch.nn as nn\n",
    "import torchvision\n",
    "from torchvision.models import vgg16, resnet34\n",
    "from torch.utils.data import Dataset, DataLoader\n",
    "from torch.optim import SGD, AdamW\n",
    "import torchvision.transforms as transforms\n",
    "from transformers import get_linear_schedule_with_warmup\n",
    "\n",
    "import os\n",
    "from tqdm import tqdm"
   ]
  },
  {
   "cell_type": "code",
   "execution_count": 14,
   "id": "e2c9b2c4",
   "metadata": {},
   "outputs": [],
   "source": [
    "class CAPTCHADataset(Dataset):\n",
    "    def __init__(self,  dir, label_file, label_map, transform=None, subset_qty=None):\n",
    "        super(CAPTCHADataset, self).__init__()\n",
    "        \n",
    "        self.dir = dir\n",
    "        self.label_file = pd.read_csv(os.path.join(os.path.curdir, label_file))\n",
    "        if subset_qty != None:\n",
    "            self.label_file = self.label_file.sample(subset_qty, axis=0).reset_index()\n",
    "        self.label_map = label_map\n",
    "        self.transform = transform\n",
    "\n",
    "    def __getitem__(self, index):\n",
    "        image_name = self.label_file['image'][index]\n",
    "        image = Image.open(os.path.join(os.getcwd(), self.dir, image_name))\n",
    "        \n",
    "        label = self.label_file['label'][index]\n",
    "        \n",
    "        if self.transform != None:\n",
    "            image = self.transform(image)\n",
    "        \n",
    "        numeric_label = self.label_map[label]\n",
    "        \n",
    "        return image, numeric_label\n",
    "    \n",
    "    def __len__(self):\n",
    "        return len(self.label_file)"
   ]
  },
  {
   "cell_type": "code",
   "execution_count": 15,
   "id": "61f0bb47",
   "metadata": {},
   "outputs": [
    {
     "name": "stdout",
     "output_type": "stream",
     "text": [
      "98\n"
     ]
    }
   ],
   "source": [
    "labels = pd.read_csv('hard_set_labels.csv')['label'].unique().tolist()\n",
    "print(len(labels))\n",
    "\n",
    "numeric_labels = range(len(labels))\n",
    "\n",
    "label_map = dict(zip(labels, numeric_labels))"
   ]
  },
  {
   "cell_type": "code",
   "execution_count": 16,
   "id": "b8384039",
   "metadata": {},
   "outputs": [],
   "source": [
    "train_transforms = transforms.Compose([\n",
    "\n",
    "                                        transforms.Resize((150, 300)),\n",
    "                                        transforms.RandomRotation(25),\n",
    "                                        transforms.ColorJitter(saturation=[5, 15], hue=[-0.2, 0.2]),\n",
    "                                        transforms.ToTensor(),\n",
    "                                        transforms.Normalize(mean=[1.848086931276295, 1.8482869967014623, 1.848101962198446],\n",
    "                                                             std = [0.319237245924657, 0.31864693591324456, 0.31901034284562513])\n",
    "                                            ])\n",
    "\n",
    "test_transforms = transforms.Compose([\n",
    "\n",
    "                                        transforms.Resize((150, 300)),\n",
    "                                        transforms.ToTensor(),\n",
    "                                        transforms.Normalize(mean=[1.848086931276295, 1.8482869967014623, 1.848101962198446],\n",
    "                                                             std = [0.319237245924657, 0.31864693591324456, 0.31901034284562513])\n",
    "                                            ])\n"
   ]
  },
  {
   "cell_type": "code",
   "execution_count": null,
   "id": "8f7a076f",
   "metadata": {},
   "outputs": [
    {
     "name": "stdout",
     "output_type": "stream",
     "text": [
      "Number of training samples:  16000\n",
      "Number of testing samples:  4000\n",
      "Number of Easy train samples:  12800\n",
      "Number of Hard train samples:  3200\n",
      "Number of Easy test samples:  3200\n",
      "Number of Hard test samples:  800\n",
      "Number of Classes:  98\n"
     ]
    }
   ],
   "source": [
    "generator = torch.Generator().manual_seed(42)\n",
    "subset_size = 25000\n",
    "# subset_indices = torch.randint(low=0, high=25000, size=(subset_size,))\n",
    "\n",
    "easy_set = CAPTCHADataset(dir='old_data/easy_set', label_file='old_data/easy_set_labels.csv', label_map=label_map, transform=train_transforms, subset_qty=16000)\n",
    "easy_set_train, easy_set_test = torch.utils.data.random_split(easy_set, lengths=[0.8, 0.2], generator=generator)\n",
    "# easy_set_train = torch.utils.data.Subset(easy_set_train, subset_indices)\n",
    "\n",
    "hard_set = CAPTCHADataset(dir='old_data/hard_set', label_file='old_data/hard_set_labels.csv', label_map=label_map, transform=train_transforms, subset_qty=4000)\n",
    "hard_set_train, hard_set_test = torch.utils.data.random_split(hard_set, lengths=[0.8, 0.2], generator=generator)\n",
    "# easy_set_train = torch.utils.data.Subset(easy_set_train, subset_indices)\n",
    "\n",
    "train_data = torch.utils.data.ConcatDataset([easy_set_train, hard_set_train])\n",
    "test_data = torch.utils.data.ConcatDataset([easy_set_test, hard_set_test])\n",
    "\n",
    "print(\"Number of training samples: \", len(train_data))\n",
    "print(\"Number of testing samples: \", len(test_data))\n",
    "print(\"Number of Easy train samples: \", len(easy_set_train)) \n",
    "print(\"Number of Hard train samples: \", len(hard_set_train))\n",
    "print(\"Number of Easy test samples: \", len(easy_set_test)) \n",
    "print(\"Number of Hard test samples: \", len(hard_set_test))\n",
    "print(\"Number of Classes: \", len(labels))"
   ]
  },
  {
   "cell_type": "code",
   "execution_count": 50,
   "id": "9a66857c",
   "metadata": {},
   "outputs": [],
   "source": [
    "trainloader = DataLoader(train_data, batch_size=64, shuffle=True, pin_memory=True, num_workers=18)\n",
    "testloader = DataLoader(test_data, batch_size=64, shuffle=True, pin_memory=True, num_workers=18)"
   ]
  },
  {
   "cell_type": "code",
   "execution_count": 51,
   "id": "5439f460",
   "metadata": {},
   "outputs": [],
   "source": [
    "def train(model, dataloader, optimizer, scheduler):\n",
    "    \n",
    "    running_loss = 0.0\n",
    "    nb_steps = 0\n",
    "    \n",
    "    for batch in tqdm(dataloader):\n",
    "        images, labels = batch\n",
    "        images = images.to(device, non_blocking=True)\n",
    "        labels = labels.to(device, non_blocking=True)\n",
    "        \n",
    "        logits = model(images)\n",
    "        curr_loss = loss_fn(logits, labels)\n",
    "        \n",
    "        curr_loss.backward()\n",
    "        optimizer.step()\n",
    "        optimizer.zero_grad()\n",
    "        \n",
    "        if scheduler != None:\n",
    "            scheduler.step()\n",
    "        \n",
    "        running_loss += curr_loss\n",
    "        nb_steps += 1\n",
    "    \n",
    "    return running_loss / nb_steps"
   ]
  },
  {
   "cell_type": "code",
   "execution_count": 52,
   "id": "535d0cd2",
   "metadata": {},
   "outputs": [],
   "source": [
    "def accuracy(logits, labels):\n",
    "    predictions = torch.argmax(logits, dim=-1)\n",
    "    \n",
    "    assert len(predictions) == len(labels), \"shape of predictions and labels do not match\"\n",
    "    \n",
    "    return (torch.sum(predictions == labels).item()) / len(labels)\n",
    "\n",
    "def evaluate(model, dataloader):\n",
    "    running_loss, running_acc = 0.0, 0.0\n",
    "    nb_steps = 0\n",
    "    \n",
    "    for batch in dataloader:\n",
    "        images, labels = batch\n",
    "        images = images.to(device, non_blocking=True)\n",
    "        labels = labels.to(device, non_blocking=True)\n",
    "        \n",
    "        with torch.no_grad():\n",
    "            logits = model(images)\n",
    "        curr_loss = loss_fn(logits, labels)\n",
    "        curr_acc = accuracy(logits, labels) \n",
    "        \n",
    "        running_loss += curr_loss\n",
    "        running_acc += curr_acc\n",
    "        \n",
    "        nb_steps += 1\n",
    "    \n",
    "    return (running_loss / nb_steps, running_acc/nb_steps)"
   ]
  },
  {
   "cell_type": "code",
   "execution_count": 53,
   "id": "9bf4a44c",
   "metadata": {},
   "outputs": [],
   "source": [
    "def run(epochs, model, optimizer, scheduler, trainloader, testloader, save_dir):\n",
    "    \n",
    "    best_acc = 0\n",
    "    \n",
    "    train_losses, val_losses, val_acc = [], [], []\n",
    "    \n",
    "    print(\"Training started.\")\n",
    "    for epoch in range(epochs):\n",
    "        print(\"=======================================================\")\n",
    "        print(f\"Epoch {epoch}/{epochs}\")\n",
    "        \n",
    "        train_loss = train(model, trainloader, optimizer, scheduler)\n",
    "        print(f\"Train loss: {train_loss}\", end='\\t\\t')\n",
    "        \n",
    "        val_loss, acc = evaluate(model, testloader)\n",
    "        print(f\"Validation loss: {val_loss}\", end='\\t\\t')\n",
    "        print(f\"Validation accuracy: {acc}\")\n",
    "        \n",
    "        if acc > best_acc:\n",
    "            print(\"Better model state found. Saving ...\")\n",
    "            torch.save(model.state_dict(), os.path.join('/home/swapnanil_mukherjee/captcha/checkpoints/', save_dir, \"best_model.pth\"))\n",
    "            \n",
    "            best_acc = acc\n",
    "        \n",
    "        train_losses.append(train_loss.cpu().item())\n",
    "        val_losses.append(val_loss.cpu().item())\n",
    "        val_acc.append(acc)\n",
    "        \n",
    "    return train_losses, val_losses, val_acc"
   ]
  },
  {
   "cell_type": "code",
   "execution_count": 54,
   "id": "ea306d29",
   "metadata": {},
   "outputs": [],
   "source": [
    "loss_fn = torch.nn.CrossEntropyLoss()\n",
    "device = \"cuda\""
   ]
  },
  {
   "cell_type": "code",
   "execution_count": 55,
   "id": "c40507e0",
   "metadata": {},
   "outputs": [],
   "source": [
    "import torch\n",
    "import torch.nn as nn\n",
    "from timm.layers import DropPath\n",
    "\n",
    "class ConvNeXtCAPTCHA(nn.Module):\n",
    "    def __init__(self, num_classes=1000, \n",
    "                 depths=[3, 3, 9, 3], \n",
    "                 dims= [32, 64, 128, 256],\n",
    "                 drop_path_rate=0.1):\n",
    "        super().__init__()\n",
    "        \n",
    "        # Stem: 4x4 non-overlapping convolution\n",
    "        self.stem = nn.Sequential(\n",
    "            nn.Conv2d(3, dims[0], kernel_size=4, stride=4),\n",
    "            nn.GroupNorm(1, dims[0])  # Temporary normalization\n",
    "        )\n",
    "        \n",
    "        # Feature pyramid stages\n",
    "        self.stages = nn.ModuleList()\n",
    "        dp_rates = [x.item() for x in torch.linspace(0, drop_path_rate, sum(depths))]\n",
    "        cur = 0\n",
    "        \n",
    "        # Build hierarchical stages with proper normalization\n",
    "        for i in range(4):\n",
    "            stage = nn.Sequential(\n",
    "                *[ConvNeXtBlock(dim=dims[i], \n",
    "                  drop_path=dp_rates[cur + j],\n",
    "                  layer_scale=1e-6) \n",
    "                for j in range(depths[i])]\n",
    "            )\n",
    "            self.stages.append(stage)\n",
    "            cur += depths[i]\n",
    "            \n",
    "            if i < 3:  # Downsample between stages\n",
    "                self.stages.append(nn.Sequential(\n",
    "                    nn.GroupNorm(1, dims[i]),\n",
    "                    nn.Conv2d(dims[i], dims[i+1], kernel_size=2, stride=2)\n",
    "                ))\n",
    "        \n",
    "        # Final normalization and head\n",
    "        self.norm = nn.LayerNorm(dims[-1], eps=1e-6)\n",
    "        self.head = nn.Linear(dims[-1], num_classes)\n",
    "        \n",
    "        self.apply(self._init_weights)\n",
    "\n",
    "    def _init_weights(self, m):\n",
    "        if isinstance(m, nn.Conv2d):\n",
    "            nn.init.trunc_normal_(m.weight, std=0.02)\n",
    "            nn.init.constant_(m.bias, 0)\n",
    "\n",
    "    def forward(self, x):\n",
    "        # Input shape: (B, 3, H, W)\n",
    "        x = self.stem(x)  # (B, C, H/4, W/4)\n",
    "        \n",
    "        for stage in self.stages:\n",
    "            x = stage(x)\n",
    "            \n",
    "        # Global average pooling\n",
    "        x = x.mean([-2, -1])  # (B, C)\n",
    "        x = self.norm(x)\n",
    "        return self.head(x)\n",
    "\n",
    "class ConvNeXtBlock(nn.Module):\n",
    "    def __init__(self, dim, drop_path=0., layer_scale=1e-6):\n",
    "        super().__init__()\n",
    "        # Depthwise convolution\n",
    "        self.dwconv = nn.Conv2d(dim, dim, kernel_size=7, padding=3, groups=dim)\n",
    "        \n",
    "        # Normalization AFTER depthwise conv (channel-first format)\n",
    "        self.norm = nn.LayerNorm(dim, eps=1e-6)\n",
    "        \n",
    "        # Pointwise expansions\n",
    "        self.pwconv1 = nn.Linear(dim, 4 * dim)\n",
    "        self.act = nn.GELU()\n",
    "        self.pwconv2 = nn.Linear(4 * dim, dim)\n",
    "        \n",
    "        # Layer scale and drop path\n",
    "        self.gamma = nn.Parameter(layer_scale * torch.ones(dim)) if layer_scale > 0 else None\n",
    "        self.drop_path = DropPath(drop_path) if drop_path > 0 else nn.Identity()\n",
    "\n",
    "    def forward(self, x):\n",
    "        input = x\n",
    "        \n",
    "        # Depthwise convolution (channel-first)\n",
    "        x = self.dwconv(x)\n",
    "        \n",
    "        # Permute to channel-last for LayerNorm\n",
    "        x = x.permute(0, 2, 3, 1)  # (B, H, W, C)\n",
    "        x = self.norm(x)\n",
    "        \n",
    "        # Pointwise expansions\n",
    "        x = self.pwconv1(x)\n",
    "        x = self.act(x)\n",
    "        x = self.pwconv2(x)\n",
    "        \n",
    "        # Layer scale\n",
    "        if self.gamma is not None:\n",
    "            x = self.gamma * x\n",
    "            \n",
    "        # Permute back to channel-first\n",
    "        x = x.permute(0, 3, 1, 2)  # (B, C, H, W)\n",
    "        \n",
    "        # Residual connection\n",
    "        x = input + self.drop_path(x)\n",
    "        return x"
   ]
  },
  {
   "cell_type": "code",
   "execution_count": 56,
   "id": "bbd33d21",
   "metadata": {},
   "outputs": [
    {
     "name": "stdout",
     "output_type": "stream",
     "text": [
      "Training started.\n",
      "=======================================================\n",
      "Epoch 0/50\n"
     ]
    },
    {
     "name": "stderr",
     "output_type": "stream",
     "text": [
      "100%|██████████| 250/250 [00:18<00:00, 13.50it/s]"
     ]
    },
    {
     "name": "stdout",
     "output_type": "stream",
     "text": [
      "Train loss: 4.658642768859863\t\t"
     ]
    },
    {
     "name": "stderr",
     "output_type": "stream",
     "text": [
      "\n"
     ]
    },
    {
     "name": "stdout",
     "output_type": "stream",
     "text": [
      "Validation loss: 4.596151828765869\t\tValidation accuracy: 0.015873015873015872\n",
      "Better model state found. Saving ...\n",
      "=======================================================\n",
      "Epoch 1/50\n"
     ]
    },
    {
     "name": "stderr",
     "output_type": "stream",
     "text": [
      "100%|██████████| 250/250 [00:18<00:00, 13.47it/s]"
     ]
    },
    {
     "name": "stdout",
     "output_type": "stream",
     "text": [
      "Train loss: 4.590627670288086\t\t"
     ]
    },
    {
     "name": "stderr",
     "output_type": "stream",
     "text": [
      "\n"
     ]
    },
    {
     "name": "stdout",
     "output_type": "stream",
     "text": [
      "Validation loss: 4.594672679901123\t\tValidation accuracy: 0.017609126984126984\n",
      "Better model state found. Saving ...\n",
      "=======================================================\n",
      "Epoch 2/50\n"
     ]
    },
    {
     "name": "stderr",
     "output_type": "stream",
     "text": [
      "100%|██████████| 250/250 [00:18<00:00, 13.45it/s]"
     ]
    },
    {
     "name": "stdout",
     "output_type": "stream",
     "text": [
      "Train loss: 4.5899763107299805\t\t"
     ]
    },
    {
     "name": "stderr",
     "output_type": "stream",
     "text": [
      "\n"
     ]
    },
    {
     "name": "stdout",
     "output_type": "stream",
     "text": [
      "Validation loss: 4.592101097106934\t\tValidation accuracy: 0.01711309523809524\n",
      "=======================================================\n",
      "Epoch 3/50\n"
     ]
    },
    {
     "name": "stderr",
     "output_type": "stream",
     "text": [
      "100%|██████████| 250/250 [00:18<00:00, 13.18it/s]"
     ]
    },
    {
     "name": "stdout",
     "output_type": "stream",
     "text": [
      "Train loss: 4.58868408203125\t\t"
     ]
    },
    {
     "name": "stderr",
     "output_type": "stream",
     "text": [
      "\n"
     ]
    },
    {
     "name": "stdout",
     "output_type": "stream",
     "text": [
      "Validation loss: 4.584519863128662\t\tValidation accuracy: 0.01711309523809524\n",
      "=======================================================\n",
      "Epoch 4/50\n"
     ]
    },
    {
     "name": "stderr",
     "output_type": "stream",
     "text": [
      "100%|██████████| 250/250 [00:18<00:00, 13.51it/s]"
     ]
    },
    {
     "name": "stdout",
     "output_type": "stream",
     "text": [
      "Train loss: 4.366670608520508\t\t"
     ]
    },
    {
     "name": "stderr",
     "output_type": "stream",
     "text": [
      "\n"
     ]
    },
    {
     "name": "stdout",
     "output_type": "stream",
     "text": [
      "Validation loss: 3.712364912033081\t\tValidation accuracy: 0.1661706349206349\n",
      "Better model state found. Saving ...\n",
      "=======================================================\n",
      "Epoch 5/50\n"
     ]
    },
    {
     "name": "stderr",
     "output_type": "stream",
     "text": [
      "100%|██████████| 250/250 [00:18<00:00, 13.35it/s]"
     ]
    },
    {
     "name": "stdout",
     "output_type": "stream",
     "text": [
      "Train loss: 2.812859058380127\t\t"
     ]
    },
    {
     "name": "stderr",
     "output_type": "stream",
     "text": [
      "\n"
     ]
    },
    {
     "name": "stdout",
     "output_type": "stream",
     "text": [
      "Validation loss: 2.087473154067993\t\tValidation accuracy: 0.7041170634920635\n",
      "Better model state found. Saving ...\n",
      "=======================================================\n",
      "Epoch 6/50\n"
     ]
    },
    {
     "name": "stderr",
     "output_type": "stream",
     "text": [
      "100%|██████████| 250/250 [00:18<00:00, 13.52it/s]\n"
     ]
    },
    {
     "name": "stdout",
     "output_type": "stream",
     "text": [
      "Train loss: 1.6309421062469482\t\tValidation loss: 1.2956748008728027\t\tValidation accuracy: 0.8003472222222222\n",
      "Better model state found. Saving ...\n",
      "=======================================================\n",
      "Epoch 7/50\n"
     ]
    },
    {
     "name": "stderr",
     "output_type": "stream",
     "text": [
      "100%|██████████| 250/250 [00:18<00:00, 13.28it/s]"
     ]
    },
    {
     "name": "stdout",
     "output_type": "stream",
     "text": [
      "Train loss: 1.1164517402648926\t\t"
     ]
    },
    {
     "name": "stderr",
     "output_type": "stream",
     "text": [
      "\n"
     ]
    },
    {
     "name": "stdout",
     "output_type": "stream",
     "text": [
      "Validation loss: 1.0331361293792725\t\tValidation accuracy: 0.8112599206349206\n",
      "Better model state found. Saving ...\n",
      "=======================================================\n",
      "Epoch 8/50\n"
     ]
    },
    {
     "name": "stderr",
     "output_type": "stream",
     "text": [
      "100%|██████████| 250/250 [00:18<00:00, 13.24it/s]"
     ]
    },
    {
     "name": "stdout",
     "output_type": "stream",
     "text": [
      "Train loss: 0.9456639885902405\t\t"
     ]
    },
    {
     "name": "stderr",
     "output_type": "stream",
     "text": [
      "\n"
     ]
    },
    {
     "name": "stdout",
     "output_type": "stream",
     "text": [
      "Validation loss: 0.9179774522781372\t\tValidation accuracy: 0.8194444444444444\n",
      "Better model state found. Saving ...\n",
      "=======================================================\n",
      "Epoch 9/50\n"
     ]
    },
    {
     "name": "stderr",
     "output_type": "stream",
     "text": [
      "100%|██████████| 250/250 [00:18<00:00, 13.29it/s]"
     ]
    },
    {
     "name": "stdout",
     "output_type": "stream",
     "text": [
      "Train loss: 0.8565348386764526\t\t"
     ]
    },
    {
     "name": "stderr",
     "output_type": "stream",
     "text": [
      "\n"
     ]
    },
    {
     "name": "stdout",
     "output_type": "stream",
     "text": [
      "Validation loss: 0.8300482034683228\t\tValidation accuracy: 0.8226686507936508\n",
      "Better model state found. Saving ...\n",
      "=======================================================\n",
      "Epoch 10/50\n"
     ]
    },
    {
     "name": "stderr",
     "output_type": "stream",
     "text": [
      "100%|██████████| 250/250 [00:18<00:00, 13.38it/s]"
     ]
    },
    {
     "name": "stdout",
     "output_type": "stream",
     "text": [
      "Train loss: 0.790791928768158\t\t"
     ]
    },
    {
     "name": "stderr",
     "output_type": "stream",
     "text": [
      "\n"
     ]
    },
    {
     "name": "stdout",
     "output_type": "stream",
     "text": [
      "Validation loss: 0.7993093132972717\t\tValidation accuracy: 0.8266369047619048\n",
      "Better model state found. Saving ...\n",
      "=======================================================\n",
      "Epoch 11/50\n"
     ]
    },
    {
     "name": "stderr",
     "output_type": "stream",
     "text": [
      "100%|██████████| 250/250 [00:18<00:00, 13.32it/s]"
     ]
    },
    {
     "name": "stdout",
     "output_type": "stream",
     "text": [
      "Train loss: 0.7372706532478333\t\t"
     ]
    },
    {
     "name": "stderr",
     "output_type": "stream",
     "text": [
      "\n"
     ]
    },
    {
     "name": "stdout",
     "output_type": "stream",
     "text": [
      "Validation loss: 0.7332462668418884\t\tValidation accuracy: 0.8358134920634921\n",
      "Better model state found. Saving ...\n",
      "=======================================================\n",
      "Epoch 12/50\n"
     ]
    },
    {
     "name": "stderr",
     "output_type": "stream",
     "text": [
      "100%|██████████| 250/250 [00:18<00:00, 13.21it/s]"
     ]
    },
    {
     "name": "stdout",
     "output_type": "stream",
     "text": [
      "Train loss: 0.6901071071624756\t\t"
     ]
    },
    {
     "name": "stderr",
     "output_type": "stream",
     "text": [
      "\n"
     ]
    },
    {
     "name": "stdout",
     "output_type": "stream",
     "text": [
      "Validation loss: 0.7202231884002686\t\tValidation accuracy: 0.8380456349206349\n",
      "Better model state found. Saving ...\n",
      "=======================================================\n",
      "Epoch 13/50\n"
     ]
    },
    {
     "name": "stderr",
     "output_type": "stream",
     "text": [
      "100%|██████████| 250/250 [00:18<00:00, 13.37it/s]"
     ]
    },
    {
     "name": "stdout",
     "output_type": "stream",
     "text": [
      "Train loss: 0.6501128077507019\t\t"
     ]
    },
    {
     "name": "stderr",
     "output_type": "stream",
     "text": [
      "\n"
     ]
    },
    {
     "name": "stdout",
     "output_type": "stream",
     "text": [
      "Validation loss: 0.6799121499061584\t\tValidation accuracy: 0.8425099206349206\n",
      "Better model state found. Saving ...\n",
      "=======================================================\n",
      "Epoch 14/50\n"
     ]
    },
    {
     "name": "stderr",
     "output_type": "stream",
     "text": [
      "100%|██████████| 250/250 [00:18<00:00, 13.36it/s]"
     ]
    },
    {
     "name": "stdout",
     "output_type": "stream",
     "text": [
      "Train loss: 0.6080242395401001\t\t"
     ]
    },
    {
     "name": "stderr",
     "output_type": "stream",
     "text": [
      "\n"
     ]
    },
    {
     "name": "stdout",
     "output_type": "stream",
     "text": [
      "Validation loss: 0.6285791397094727\t\tValidation accuracy: 0.8509424603174603\n",
      "Better model state found. Saving ...\n",
      "=======================================================\n",
      "Epoch 15/50\n"
     ]
    },
    {
     "name": "stderr",
     "output_type": "stream",
     "text": [
      "100%|██████████| 250/250 [00:18<00:00, 13.29it/s]"
     ]
    },
    {
     "name": "stdout",
     "output_type": "stream",
     "text": [
      "Train loss: 0.5689930319786072\t\t"
     ]
    },
    {
     "name": "stderr",
     "output_type": "stream",
     "text": [
      "\n"
     ]
    },
    {
     "name": "stdout",
     "output_type": "stream",
     "text": [
      "Validation loss: 0.6224848031997681\t\tValidation accuracy: 0.8524305555555556\n",
      "Better model state found. Saving ...\n",
      "=======================================================\n",
      "Epoch 16/50\n"
     ]
    },
    {
     "name": "stderr",
     "output_type": "stream",
     "text": [
      "100%|██████████| 250/250 [00:18<00:00, 13.38it/s]"
     ]
    },
    {
     "name": "stdout",
     "output_type": "stream",
     "text": [
      "Train loss: 0.5336765050888062\t\t"
     ]
    },
    {
     "name": "stderr",
     "output_type": "stream",
     "text": [
      "\n"
     ]
    },
    {
     "name": "stdout",
     "output_type": "stream",
     "text": [
      "Validation loss: 0.6051769256591797\t\tValidation accuracy: 0.8544146825396826\n",
      "Better model state found. Saving ...\n",
      "=======================================================\n",
      "Epoch 17/50\n"
     ]
    },
    {
     "name": "stderr",
     "output_type": "stream",
     "text": [
      "100%|██████████| 250/250 [00:18<00:00, 13.41it/s]"
     ]
    },
    {
     "name": "stdout",
     "output_type": "stream",
     "text": [
      "Train loss: 0.502535343170166\t\t"
     ]
    },
    {
     "name": "stderr",
     "output_type": "stream",
     "text": [
      "\n"
     ]
    },
    {
     "name": "stdout",
     "output_type": "stream",
     "text": [
      "Validation loss: 0.547529399394989\t\tValidation accuracy: 0.8680555555555556\n",
      "Better model state found. Saving ...\n",
      "=======================================================\n",
      "Epoch 18/50\n"
     ]
    },
    {
     "name": "stderr",
     "output_type": "stream",
     "text": [
      "100%|██████████| 250/250 [00:18<00:00, 13.21it/s]"
     ]
    },
    {
     "name": "stdout",
     "output_type": "stream",
     "text": [
      "Train loss: 0.4742681384086609\t\t"
     ]
    },
    {
     "name": "stderr",
     "output_type": "stream",
     "text": [
      "\n"
     ]
    },
    {
     "name": "stdout",
     "output_type": "stream",
     "text": [
      "Validation loss: 0.5471758246421814\t\tValidation accuracy: 0.8670634920634921\n",
      "=======================================================\n",
      "Epoch 19/50\n"
     ]
    },
    {
     "name": "stderr",
     "output_type": "stream",
     "text": [
      "100%|██████████| 250/250 [00:19<00:00, 13.12it/s]"
     ]
    },
    {
     "name": "stdout",
     "output_type": "stream",
     "text": [
      "Train loss: 0.4412790536880493\t\t"
     ]
    },
    {
     "name": "stderr",
     "output_type": "stream",
     "text": [
      "\n"
     ]
    },
    {
     "name": "stdout",
     "output_type": "stream",
     "text": [
      "Validation loss: 0.5213537812232971\t\tValidation accuracy: 0.8722718253968254\n",
      "Better model state found. Saving ...\n",
      "=======================================================\n",
      "Epoch 20/50\n"
     ]
    },
    {
     "name": "stderr",
     "output_type": "stream",
     "text": [
      "100%|██████████| 250/250 [00:18<00:00, 13.16it/s]\n"
     ]
    },
    {
     "name": "stdout",
     "output_type": "stream",
     "text": [
      "Train loss: 0.4163103699684143\t\tValidation loss: 0.4937751591205597\t\tValidation accuracy: 0.8792162698412699\n",
      "Better model state found. Saving ...\n",
      "=======================================================\n",
      "Epoch 21/50\n"
     ]
    },
    {
     "name": "stderr",
     "output_type": "stream",
     "text": [
      "100%|██████████| 250/250 [00:18<00:00, 13.47it/s]"
     ]
    },
    {
     "name": "stdout",
     "output_type": "stream",
     "text": [
      "Train loss: 0.3866068422794342\t\t"
     ]
    },
    {
     "name": "stderr",
     "output_type": "stream",
     "text": [
      "\n"
     ]
    },
    {
     "name": "stdout",
     "output_type": "stream",
     "text": [
      "Validation loss: 0.4872235655784607\t\tValidation accuracy: 0.8861607142857143\n",
      "Better model state found. Saving ...\n",
      "=======================================================\n",
      "Epoch 22/50\n"
     ]
    },
    {
     "name": "stderr",
     "output_type": "stream",
     "text": [
      "100%|██████████| 250/250 [00:18<00:00, 13.23it/s]"
     ]
    },
    {
     "name": "stdout",
     "output_type": "stream",
     "text": [
      "Train loss: 0.3672855496406555\t\t"
     ]
    },
    {
     "name": "stderr",
     "output_type": "stream",
     "text": [
      "\n"
     ]
    },
    {
     "name": "stdout",
     "output_type": "stream",
     "text": [
      "Validation loss: 0.45070064067840576\t\tValidation accuracy: 0.8908730158730159\n",
      "Better model state found. Saving ...\n",
      "=======================================================\n",
      "Epoch 23/50\n"
     ]
    },
    {
     "name": "stderr",
     "output_type": "stream",
     "text": [
      "100%|██████████| 250/250 [00:18<00:00, 13.30it/s]"
     ]
    },
    {
     "name": "stdout",
     "output_type": "stream",
     "text": [
      "Train loss: 0.34695202112197876\t\t"
     ]
    },
    {
     "name": "stderr",
     "output_type": "stream",
     "text": [
      "\n"
     ]
    },
    {
     "name": "stdout",
     "output_type": "stream",
     "text": [
      "Validation loss: 0.43528032302856445\t\tValidation accuracy: 0.8936011904761905\n",
      "Better model state found. Saving ...\n",
      "=======================================================\n",
      "Epoch 24/50\n"
     ]
    },
    {
     "name": "stderr",
     "output_type": "stream",
     "text": [
      "100%|██████████| 250/250 [00:18<00:00, 13.29it/s]"
     ]
    },
    {
     "name": "stdout",
     "output_type": "stream",
     "text": [
      "Train loss: 0.3244357705116272\t\t"
     ]
    },
    {
     "name": "stderr",
     "output_type": "stream",
     "text": [
      "\n"
     ]
    },
    {
     "name": "stdout",
     "output_type": "stream",
     "text": [
      "Validation loss: 0.42651882767677307\t\tValidation accuracy: 0.8911210317460317\n",
      "=======================================================\n",
      "Epoch 25/50\n"
     ]
    },
    {
     "name": "stderr",
     "output_type": "stream",
     "text": [
      "100%|██████████| 250/250 [00:18<00:00, 13.35it/s]"
     ]
    },
    {
     "name": "stdout",
     "output_type": "stream",
     "text": [
      "Train loss: 0.3060421049594879\t\t"
     ]
    },
    {
     "name": "stderr",
     "output_type": "stream",
     "text": [
      "\n"
     ]
    },
    {
     "name": "stdout",
     "output_type": "stream",
     "text": [
      "Validation loss: 0.4285132884979248\t\tValidation accuracy: 0.8955853174603174\n",
      "Better model state found. Saving ...\n",
      "=======================================================\n",
      "Epoch 26/50\n"
     ]
    },
    {
     "name": "stderr",
     "output_type": "stream",
     "text": [
      "100%|██████████| 250/250 [00:18<00:00, 13.31it/s]"
     ]
    },
    {
     "name": "stdout",
     "output_type": "stream",
     "text": [
      "Train loss: 0.28586694598197937\t\t"
     ]
    },
    {
     "name": "stderr",
     "output_type": "stream",
     "text": [
      "\n"
     ]
    },
    {
     "name": "stdout",
     "output_type": "stream",
     "text": [
      "Validation loss: 0.3875412940979004\t\tValidation accuracy: 0.904265873015873\n",
      "Better model state found. Saving ...\n",
      "=======================================================\n",
      "Epoch 27/50\n"
     ]
    },
    {
     "name": "stderr",
     "output_type": "stream",
     "text": [
      "100%|██████████| 250/250 [00:18<00:00, 13.30it/s]"
     ]
    },
    {
     "name": "stdout",
     "output_type": "stream",
     "text": [
      "Train loss: 0.258823037147522\t\t"
     ]
    },
    {
     "name": "stderr",
     "output_type": "stream",
     "text": [
      "\n"
     ]
    },
    {
     "name": "stdout",
     "output_type": "stream",
     "text": [
      "Validation loss: 0.38080576062202454\t\tValidation accuracy: 0.9084821428571429\n",
      "Better model state found. Saving ...\n",
      "=======================================================\n",
      "Epoch 28/50\n"
     ]
    },
    {
     "name": "stderr",
     "output_type": "stream",
     "text": [
      "100%|██████████| 250/250 [00:18<00:00, 13.33it/s]"
     ]
    },
    {
     "name": "stdout",
     "output_type": "stream",
     "text": [
      "Train loss: 0.25451257824897766\t\t"
     ]
    },
    {
     "name": "stderr",
     "output_type": "stream",
     "text": [
      "\n"
     ]
    },
    {
     "name": "stdout",
     "output_type": "stream",
     "text": [
      "Validation loss: 0.37327122688293457\t\tValidation accuracy: 0.9099702380952381\n",
      "Better model state found. Saving ...\n",
      "=======================================================\n",
      "Epoch 29/50\n"
     ]
    },
    {
     "name": "stderr",
     "output_type": "stream",
     "text": [
      "100%|██████████| 250/250 [00:18<00:00, 13.38it/s]"
     ]
    },
    {
     "name": "stdout",
     "output_type": "stream",
     "text": [
      "Train loss: 0.23601225018501282\t\t"
     ]
    },
    {
     "name": "stderr",
     "output_type": "stream",
     "text": [
      "\n"
     ]
    },
    {
     "name": "stdout",
     "output_type": "stream",
     "text": [
      "Validation loss: 0.36014971137046814\t\tValidation accuracy: 0.908234126984127\n",
      "=======================================================\n",
      "Epoch 30/50\n"
     ]
    },
    {
     "name": "stderr",
     "output_type": "stream",
     "text": [
      "100%|██████████| 250/250 [00:18<00:00, 13.40it/s]\n"
     ]
    },
    {
     "name": "stdout",
     "output_type": "stream",
     "text": [
      "Train loss: 0.2191140055656433\t\tValidation loss: 0.3443964421749115\t\tValidation accuracy: 0.9104662698412699\n",
      "Better model state found. Saving ...\n",
      "=======================================================\n",
      "Epoch 31/50\n"
     ]
    },
    {
     "name": "stderr",
     "output_type": "stream",
     "text": [
      "100%|██████████| 250/250 [00:18<00:00, 13.30it/s]"
     ]
    },
    {
     "name": "stdout",
     "output_type": "stream",
     "text": [
      "Train loss: 0.20976877212524414\t\t"
     ]
    },
    {
     "name": "stderr",
     "output_type": "stream",
     "text": [
      "\n"
     ]
    },
    {
     "name": "stdout",
     "output_type": "stream",
     "text": [
      "Validation loss: 0.32673391699790955\t\tValidation accuracy: 0.9203869047619048\n",
      "Better model state found. Saving ...\n",
      "=======================================================\n",
      "Epoch 32/50\n"
     ]
    },
    {
     "name": "stderr",
     "output_type": "stream",
     "text": [
      "100%|██████████| 250/250 [00:18<00:00, 13.21it/s]"
     ]
    },
    {
     "name": "stdout",
     "output_type": "stream",
     "text": [
      "Train loss: 0.1956220418214798\t\t"
     ]
    },
    {
     "name": "stderr",
     "output_type": "stream",
     "text": [
      "\n"
     ]
    },
    {
     "name": "stdout",
     "output_type": "stream",
     "text": [
      "Validation loss: 0.3161405324935913\t\tValidation accuracy: 0.9236111111111112\n",
      "Better model state found. Saving ...\n",
      "=======================================================\n",
      "Epoch 33/50\n"
     ]
    },
    {
     "name": "stderr",
     "output_type": "stream",
     "text": [
      "100%|██████████| 250/250 [00:18<00:00, 13.34it/s]\n"
     ]
    },
    {
     "name": "stdout",
     "output_type": "stream",
     "text": [
      "Train loss: 0.18395107984542847\t\tValidation loss: 0.32316723465919495\t\tValidation accuracy: 0.9164186507936508\n",
      "=======================================================\n",
      "Epoch 34/50\n"
     ]
    },
    {
     "name": "stderr",
     "output_type": "stream",
     "text": [
      "100%|██████████| 250/250 [00:18<00:00, 13.28it/s]"
     ]
    },
    {
     "name": "stdout",
     "output_type": "stream",
     "text": [
      "Train loss: 0.1789739429950714\t\t"
     ]
    },
    {
     "name": "stderr",
     "output_type": "stream",
     "text": [
      "\n"
     ]
    },
    {
     "name": "stdout",
     "output_type": "stream",
     "text": [
      "Validation loss: 0.2981487512588501\t\tValidation accuracy: 0.9273313492063492\n",
      "Better model state found. Saving ...\n",
      "=======================================================\n",
      "Epoch 35/50\n"
     ]
    },
    {
     "name": "stderr",
     "output_type": "stream",
     "text": [
      "100%|██████████| 250/250 [00:18<00:00, 13.36it/s]"
     ]
    },
    {
     "name": "stdout",
     "output_type": "stream",
     "text": [
      "Train loss: 0.16340984404087067\t\t"
     ]
    },
    {
     "name": "stderr",
     "output_type": "stream",
     "text": [
      "\n"
     ]
    },
    {
     "name": "stdout",
     "output_type": "stream",
     "text": [
      "Validation loss: 0.2977266013622284\t\tValidation accuracy: 0.9265873015873016\n",
      "=======================================================\n",
      "Epoch 36/50\n"
     ]
    },
    {
     "name": "stderr",
     "output_type": "stream",
     "text": [
      "100%|██████████| 250/250 [00:18<00:00, 13.35it/s]"
     ]
    },
    {
     "name": "stdout",
     "output_type": "stream",
     "text": [
      "Train loss: 0.15832732617855072\t\t"
     ]
    },
    {
     "name": "stderr",
     "output_type": "stream",
     "text": [
      "\n"
     ]
    },
    {
     "name": "stdout",
     "output_type": "stream",
     "text": [
      "Validation loss: 0.2752709686756134\t\tValidation accuracy: 0.9300595238095238\n",
      "Better model state found. Saving ...\n",
      "=======================================================\n",
      "Epoch 37/50\n"
     ]
    },
    {
     "name": "stderr",
     "output_type": "stream",
     "text": [
      "100%|██████████| 250/250 [00:18<00:00, 13.32it/s]"
     ]
    },
    {
     "name": "stdout",
     "output_type": "stream",
     "text": [
      "Train loss: 0.1496700942516327\t\t"
     ]
    },
    {
     "name": "stderr",
     "output_type": "stream",
     "text": [
      "\n"
     ]
    },
    {
     "name": "stdout",
     "output_type": "stream",
     "text": [
      "Validation loss: 0.2842583954334259\t\tValidation accuracy: 0.9295634920634921\n",
      "=======================================================\n",
      "Epoch 38/50\n"
     ]
    },
    {
     "name": "stderr",
     "output_type": "stream",
     "text": [
      "100%|██████████| 250/250 [00:18<00:00, 13.26it/s]"
     ]
    },
    {
     "name": "stdout",
     "output_type": "stream",
     "text": [
      "Train loss: 0.1460517793893814\t\t"
     ]
    },
    {
     "name": "stderr",
     "output_type": "stream",
     "text": [
      "\n"
     ]
    },
    {
     "name": "stdout",
     "output_type": "stream",
     "text": [
      "Validation loss: 0.28926169872283936\t\tValidation accuracy: 0.9283234126984127\n",
      "=======================================================\n",
      "Epoch 39/50\n"
     ]
    },
    {
     "name": "stderr",
     "output_type": "stream",
     "text": [
      "100%|██████████| 250/250 [00:18<00:00, 13.24it/s]"
     ]
    },
    {
     "name": "stdout",
     "output_type": "stream",
     "text": [
      "Train loss: 0.13236014544963837\t\t"
     ]
    },
    {
     "name": "stderr",
     "output_type": "stream",
     "text": [
      "\n"
     ]
    },
    {
     "name": "stdout",
     "output_type": "stream",
     "text": [
      "Validation loss: 0.26430222392082214\t\tValidation accuracy: 0.933531746031746\n",
      "Better model state found. Saving ...\n",
      "=======================================================\n",
      "Epoch 40/50\n"
     ]
    },
    {
     "name": "stderr",
     "output_type": "stream",
     "text": [
      "100%|██████████| 250/250 [00:18<00:00, 13.24it/s]"
     ]
    },
    {
     "name": "stdout",
     "output_type": "stream",
     "text": [
      "Train loss: 0.12237773090600967\t\t"
     ]
    },
    {
     "name": "stderr",
     "output_type": "stream",
     "text": [
      "\n"
     ]
    },
    {
     "name": "stdout",
     "output_type": "stream",
     "text": [
      "Validation loss: 0.26230016350746155\t\tValidation accuracy: 0.9370039682539683\n",
      "Better model state found. Saving ...\n",
      "=======================================================\n",
      "Epoch 41/50\n"
     ]
    },
    {
     "name": "stderr",
     "output_type": "stream",
     "text": [
      "100%|██████████| 250/250 [00:19<00:00, 13.03it/s]"
     ]
    },
    {
     "name": "stdout",
     "output_type": "stream",
     "text": [
      "Train loss: 0.11981229484081268\t\t"
     ]
    },
    {
     "name": "stderr",
     "output_type": "stream",
     "text": [
      "\n"
     ]
    },
    {
     "name": "stdout",
     "output_type": "stream",
     "text": [
      "Validation loss: 0.2593643367290497\t\tValidation accuracy: 0.9325396825396826\n",
      "=======================================================\n",
      "Epoch 42/50\n"
     ]
    },
    {
     "name": "stderr",
     "output_type": "stream",
     "text": [
      "100%|██████████| 250/250 [00:18<00:00, 13.39it/s]"
     ]
    },
    {
     "name": "stdout",
     "output_type": "stream",
     "text": [
      "Train loss: 0.11314941197633743\t\t"
     ]
    },
    {
     "name": "stderr",
     "output_type": "stream",
     "text": [
      "\n"
     ]
    },
    {
     "name": "stdout",
     "output_type": "stream",
     "text": [
      "Validation loss: 0.24975082278251648\t\tValidation accuracy: 0.9424603174603174\n",
      "Better model state found. Saving ...\n",
      "=======================================================\n",
      "Epoch 43/50\n"
     ]
    },
    {
     "name": "stderr",
     "output_type": "stream",
     "text": [
      "100%|██████████| 250/250 [00:18<00:00, 13.28it/s]"
     ]
    },
    {
     "name": "stdout",
     "output_type": "stream",
     "text": [
      "Train loss: 0.10921085625886917\t\t"
     ]
    },
    {
     "name": "stderr",
     "output_type": "stream",
     "text": [
      "\n"
     ]
    },
    {
     "name": "stdout",
     "output_type": "stream",
     "text": [
      "Validation loss: 0.2538079619407654\t\tValidation accuracy: 0.9399801587301587\n",
      "=======================================================\n",
      "Epoch 44/50\n"
     ]
    },
    {
     "name": "stderr",
     "output_type": "stream",
     "text": [
      "100%|██████████| 250/250 [00:18<00:00, 13.46it/s]"
     ]
    },
    {
     "name": "stdout",
     "output_type": "stream",
     "text": [
      "Train loss: 0.1083294153213501\t\t"
     ]
    },
    {
     "name": "stderr",
     "output_type": "stream",
     "text": [
      "\n"
     ]
    },
    {
     "name": "stdout",
     "output_type": "stream",
     "text": [
      "Validation loss: 0.25601908564567566\t\tValidation accuracy: 0.9387400793650794\n",
      "=======================================================\n",
      "Epoch 45/50\n"
     ]
    },
    {
     "name": "stderr",
     "output_type": "stream",
     "text": [
      "100%|██████████| 250/250 [00:18<00:00, 13.23it/s]"
     ]
    },
    {
     "name": "stdout",
     "output_type": "stream",
     "text": [
      "Train loss: 0.10588546842336655\t\t"
     ]
    },
    {
     "name": "stderr",
     "output_type": "stream",
     "text": [
      "\n"
     ]
    },
    {
     "name": "stdout",
     "output_type": "stream",
     "text": [
      "Validation loss: 0.2574894428253174\t\tValidation accuracy: 0.9372519841269841\n",
      "=======================================================\n",
      "Epoch 46/50\n"
     ]
    },
    {
     "name": "stderr",
     "output_type": "stream",
     "text": [
      "100%|██████████| 250/250 [00:18<00:00, 13.33it/s]"
     ]
    },
    {
     "name": "stdout",
     "output_type": "stream",
     "text": [
      "Train loss: 0.10244732350111008\t\t"
     ]
    },
    {
     "name": "stderr",
     "output_type": "stream",
     "text": [
      "\n"
     ]
    },
    {
     "name": "stdout",
     "output_type": "stream",
     "text": [
      "Validation loss: 0.24233990907669067\t\tValidation accuracy: 0.9424603174603174\n",
      "=======================================================\n",
      "Epoch 47/50\n"
     ]
    },
    {
     "name": "stderr",
     "output_type": "stream",
     "text": [
      "100%|██████████| 250/250 [00:19<00:00, 13.14it/s]\n"
     ]
    },
    {
     "name": "stdout",
     "output_type": "stream",
     "text": [
      "Train loss: 0.09886114299297333\t\tValidation loss: 0.24893788993358612\t\tValidation accuracy: 0.9404761904761905\n",
      "=======================================================\n",
      "Epoch 48/50\n"
     ]
    },
    {
     "name": "stderr",
     "output_type": "stream",
     "text": [
      "100%|██████████| 250/250 [00:18<00:00, 13.20it/s]"
     ]
    },
    {
     "name": "stdout",
     "output_type": "stream",
     "text": [
      "Train loss: 0.09260623902082443\t\t"
     ]
    },
    {
     "name": "stderr",
     "output_type": "stream",
     "text": [
      "\n"
     ]
    },
    {
     "name": "stdout",
     "output_type": "stream",
     "text": [
      "Validation loss: 0.24001453816890717\t\tValidation accuracy: 0.9412202380952381\n",
      "=======================================================\n",
      "Epoch 49/50\n"
     ]
    },
    {
     "name": "stderr",
     "output_type": "stream",
     "text": [
      "100%|██████████| 250/250 [00:18<00:00, 13.23it/s]"
     ]
    },
    {
     "name": "stdout",
     "output_type": "stream",
     "text": [
      "Train loss: 0.09481963515281677\t\t"
     ]
    },
    {
     "name": "stderr",
     "output_type": "stream",
     "text": [
      "\n"
     ]
    },
    {
     "name": "stdout",
     "output_type": "stream",
     "text": [
      "Validation loss: 0.23727136850357056\t\tValidation accuracy: 0.9427083333333334\n",
      "Better model state found. Saving ...\n"
     ]
    }
   ],
   "source": [
    "epochs = 50\n",
    "# model = vgg16(weights=None, num_classes=98).to(device)\n",
    "model = ConvNeXtCAPTCHA(num_classes=98).to(device)\n",
    "\n",
    "optimizer = AdamW(model.parameters(), lr=0.0001, weight_decay=0.001)\n",
    "scheduler = get_linear_schedule_with_warmup(optimizer, \n",
    "                                            num_training_steps=len(trainloader)*epochs, \n",
    "                                            num_warmup_steps=len(trainloader)*epochs*0.1)\n",
    "\n",
    "train_losses, val_losses, val_acc = run(epochs, model, optimizer, scheduler, trainloader, testloader, save_dir=\"vgg\")"
   ]
  },
  {
   "cell_type": "code",
   "execution_count": null,
   "id": "85da639f",
   "metadata": {},
   "outputs": [
    {
     "data": {
      "text/plain": [
       "3.203714"
      ]
     },
     "execution_count": 61,
     "metadata": {},
     "output_type": "execute_result"
    }
   ],
   "source": [
    "# number of parameters in the model (millions)\n",
    "sum(p.numel() for p in model.parameters()) / 10**6"
   ]
  },
  {
   "cell_type": "code",
   "execution_count": 57,
   "id": "1490d5d1",
   "metadata": {},
   "outputs": [
    {
     "data": {
      "text/plain": [
       "<function matplotlib.pyplot.show(close=None, block=None)>"
      ]
     },
     "execution_count": 57,
     "metadata": {},
     "output_type": "execute_result"
    },
    {
     "data": {
      "image/png": "[encoded data removed]",
      "text/plain": [
       "<Figure size 640x480 with 1 Axes>"
      ]
     },
     "metadata": {},
     "output_type": "display_data"
    }
   ],
   "source": [
    "plt.plot(range(epochs), train_losses, label='Train Loss')\n",
    "plt.plot(range(epochs), val_losses, label= 'Val loss')\n",
    "plt.xlabel(\"Epochs\")\n",
    "plt.ylabel(\"Loss\")\n",
    "plt.title(\"Loss vs Epochs\")\n",
    "plt.legend()\n",
    "plt.show"
   ]
  },
  {
   "cell_type": "code",
   "execution_count": 58,
   "id": "c136aa92",
   "metadata": {},
   "outputs": [
    {
     "data": {
      "text/plain": [
       "<function matplotlib.pyplot.show(close=None, block=None)>"
      ]
     },
     "execution_count": 58,
     "metadata": {},
     "output_type": "execute_result"
    },
    {
     "data": {
      "image/png": "[encoded data removed]",
      "text/plain": [
       "<Figure size 640x480 with 1 Axes>"
      ]
     },
     "metadata": {},
     "output_type": "display_data"
    }
   ],
   "source": [
    "plt.plot(range(epochs), val_acc, label= 'Val Accuracy')\n",
    "plt.xlabel(\"Epochs\")\n",
    "plt.ylabel(\"Accuracy\")\n",
    "plt.title(\"Accuracy vs Epochs\")\n",
    "plt.ylim(0, 1)\n",
    "plt.legend()\n",
    "plt.show"
   ]
  },
  {
   "cell_type": "code",
   "execution_count": null,
   "id": "085479d7",
   "metadata": {},
   "outputs": [],
   "source": []
  },
  {
   "cell_type": "code",
   "execution_count": null,
   "id": "ca2bf364",
   "metadata": {},
   "outputs": [],
   "source": []
  }
 ],
 "metadata": {
  "kernelspec": {
   "display_name": "captcha",
   "language": "python",
   "name": "python3"
  },
  "language_info": {
   "codemirror_mode": {
    "name": "ipython",
    "version": 3
   },
   "file_extension": ".py",
   "mimetype": "text/x-python",
   "name": "python",
   "nbconvert_exporter": "python",
   "pygments_lexer": "ipython3",
   "version": "3.12.9"
  }
 },
 "nbformat": 4,
 "nbformat_minor": 5
}
